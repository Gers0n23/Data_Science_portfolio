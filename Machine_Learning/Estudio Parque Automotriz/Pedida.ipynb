{
 "cells": [
  {
   "cell_type": "code",
   "execution_count": 1,
   "id": "19212b1a",
   "metadata": {},
   "outputs": [],
   "source": [
    "import pandas as pd"
   ]
  },
  {
   "cell_type": "code",
   "execution_count": 2,
   "id": "b2e43925",
   "metadata": {},
   "outputs": [],
   "source": [
    "URL = 'C:/Users/juan.vergara/OneDrive - Caren Repuestos Flotacentro/Documentos/Análisis/Parque Automotriz/Parque en Bruto para Modelo/'"
   ]
  },
  {
   "cell_type": "code",
   "execution_count": 3,
   "id": "a406f6be",
   "metadata": {},
   "outputs": [
    {
     "name": "stderr",
     "output_type": "stream",
     "text": [
      "C:\\ProgramData\\Anaconda3\\lib\\site-packages\\IPython\\core\\interactiveshell.py:3165: DtypeWarning: Columns (15) have mixed types.Specify dtype option on import or set low_memory=False.\n",
      "  has_raised = await self.run_ast_nodes(code_ast.body, cell_name,\n"
     ]
    }
   ],
   "source": [
    "df = pd.read_csv(URL+'ParqueAutomotriz2020.csv')"
   ]
  },
  {
   "cell_type": "code",
   "execution_count": 4,
   "id": "789c38d9",
   "metadata": {},
   "outputs": [
    {
     "data": {
      "text/html": [
       "<div>\n",
       "<style scoped>\n",
       "    .dataframe tbody tr th:only-of-type {\n",
       "        vertical-align: middle;\n",
       "    }\n",
       "\n",
       "    .dataframe tbody tr th {\n",
       "        vertical-align: top;\n",
       "    }\n",
       "\n",
       "    .dataframe thead th {\n",
       "        text-align: right;\n",
       "    }\n",
       "</style>\n",
       "<table border=\"1\" class=\"dataframe\">\n",
       "  <thead>\n",
       "    <tr style=\"text-align: right;\">\n",
       "      <th></th>\n",
       "      <th>ppu</th>\n",
       "      <th>dv_ppu</th>\n",
       "      <th>ano_fab</th>\n",
       "      <th>color</th>\n",
       "      <th>motor</th>\n",
       "      <th>chasis</th>\n",
       "      <th>rut</th>\n",
       "      <th>dv</th>\n",
       "      <th>nomtot</th>\n",
       "      <th>tp_motor_fantasia</th>\n",
       "      <th>tp_marcaMotor</th>\n",
       "      <th>tp_vigencia</th>\n",
       "      <th>Marca</th>\n",
       "      <th>Tipo</th>\n",
       "      <th>Modelo</th>\n",
       "      <th>lmat_vigencia</th>\n",
       "    </tr>\n",
       "  </thead>\n",
       "  <tbody>\n",
       "    <tr>\n",
       "      <th>0</th>\n",
       "      <td>AC9316</td>\n",
       "      <td>7</td>\n",
       "      <td>1993</td>\n",
       "      <td>NEGRO</td>\n",
       "      <td>2323226</td>\n",
       "      <td>1305579</td>\n",
       "      <td>9629390</td>\n",
       "      <td>9</td>\n",
       "      <td>SEGURA CASTILLO RAMON SEGUNDO</td>\n",
       "      <td>NaN</td>\n",
       "      <td>NaN</td>\n",
       "      <td>NaN</td>\n",
       "      <td>LADA</td>\n",
       "      <td>AUTOMOVIL</td>\n",
       "      <td>21053 1.5</td>\n",
       "      <td>NaN</td>\n",
       "    </tr>\n",
       "    <tr>\n",
       "      <th>1</th>\n",
       "      <td>AC9317</td>\n",
       "      <td>5</td>\n",
       "      <td>1993</td>\n",
       "      <td>AZUL</td>\n",
       "      <td>235034</td>\n",
       "      <td>TFR16HDL-E-B-1471</td>\n",
       "      <td>3222026</td>\n",
       "      <td>6</td>\n",
       "      <td>PAILLAMAN COTAR TORIBIO</td>\n",
       "      <td>NaN</td>\n",
       "      <td>NaN</td>\n",
       "      <td>NaN</td>\n",
       "      <td>CHEVROLET</td>\n",
       "      <td>CAMIONETA</td>\n",
       "      <td>LUV 2.3 D CAB</td>\n",
       "      <td>NaN</td>\n",
       "    </tr>\n",
       "    <tr>\n",
       "      <th>2</th>\n",
       "      <td>AC9318</td>\n",
       "      <td>3</td>\n",
       "      <td>1993</td>\n",
       "      <td>BEIGE</td>\n",
       "      <td>1635</td>\n",
       "      <td>874207</td>\n",
       "      <td>8937861</td>\n",
       "      <td>3</td>\n",
       "      <td>SALAS CORTES CRISTIAN HUMBERTO</td>\n",
       "      <td>NaN</td>\n",
       "      <td>NaN</td>\n",
       "      <td>NaN</td>\n",
       "      <td>PEUGEOT</td>\n",
       "      <td>AUTOMOVIL</td>\n",
       "      <td>605 SLI 2.0</td>\n",
       "      <td>NaN</td>\n",
       "    </tr>\n",
       "    <tr>\n",
       "      <th>3</th>\n",
       "      <td>AC9319</td>\n",
       "      <td>1</td>\n",
       "      <td>1993</td>\n",
       "      <td>ROJO</td>\n",
       "      <td>237353</td>\n",
       "      <td>TFS16HDL-E-0423</td>\n",
       "      <td>10077682</td>\n",
       "      <td>0</td>\n",
       "      <td>PALMA SILVA DAVID IGNACIO</td>\n",
       "      <td>NaN</td>\n",
       "      <td>NaN</td>\n",
       "      <td>NaN</td>\n",
       "      <td>CHEVROLET</td>\n",
       "      <td>CAMIONETA</td>\n",
       "      <td>LUV 4X4 D CAB CKD E</td>\n",
       "      <td>NaN</td>\n",
       "    </tr>\n",
       "    <tr>\n",
       "      <th>4</th>\n",
       "      <td>AC9320</td>\n",
       "      <td>5</td>\n",
       "      <td>1993</td>\n",
       "      <td>AZUL</td>\n",
       "      <td>232862</td>\n",
       "      <td>TFR16HDL-E-B-1354</td>\n",
       "      <td>15745597</td>\n",
       "      <td>4</td>\n",
       "      <td>FUENTES ZUNIGA UBERLINDA DEL CARMEN</td>\n",
       "      <td>NaN</td>\n",
       "      <td>NaN</td>\n",
       "      <td>NaN</td>\n",
       "      <td>CHEVROLET</td>\n",
       "      <td>CAMIONETA</td>\n",
       "      <td>LUV 2.3 D CAB</td>\n",
       "      <td>NaN</td>\n",
       "    </tr>\n",
       "  </tbody>\n",
       "</table>\n",
       "</div>"
      ],
      "text/plain": [
       "      ppu dv_ppu  ano_fab  color    motor             chasis       rut dv  \\\n",
       "0  AC9316      7     1993  NEGRO  2323226            1305579   9629390  9   \n",
       "1  AC9317      5     1993   AZUL   235034  TFR16HDL-E-B-1471   3222026  6   \n",
       "2  AC9318      3     1993  BEIGE     1635             874207   8937861  3   \n",
       "3  AC9319      1     1993   ROJO   237353    TFS16HDL-E-0423  10077682  0   \n",
       "4  AC9320      5     1993   AZUL   232862  TFR16HDL-E-B-1354  15745597  4   \n",
       "\n",
       "                                nomtot tp_motor_fantasia tp_marcaMotor  \\\n",
       "0        SEGURA CASTILLO RAMON SEGUNDO               NaN           NaN   \n",
       "1              PAILLAMAN COTAR TORIBIO               NaN           NaN   \n",
       "2       SALAS CORTES CRISTIAN HUMBERTO               NaN           NaN   \n",
       "3            PALMA SILVA DAVID IGNACIO               NaN           NaN   \n",
       "4  FUENTES ZUNIGA UBERLINDA DEL CARMEN               NaN           NaN   \n",
       "\n",
       "  tp_vigencia      Marca       Tipo               Modelo lmat_vigencia  \n",
       "0         NaN       LADA  AUTOMOVIL            21053 1.5           NaN  \n",
       "1         NaN  CHEVROLET  CAMIONETA        LUV 2.3 D CAB           NaN  \n",
       "2         NaN    PEUGEOT  AUTOMOVIL          605 SLI 2.0           NaN  \n",
       "3         NaN  CHEVROLET  CAMIONETA  LUV 4X4 D CAB CKD E           NaN  \n",
       "4         NaN  CHEVROLET  CAMIONETA        LUV 2.3 D CAB           NaN  "
      ]
     },
     "execution_count": 4,
     "metadata": {},
     "output_type": "execute_result"
    }
   ],
   "source": [
    "df.head()"
   ]
  },
  {
   "cell_type": "code",
   "execution_count": 5,
   "id": "e662cc83",
   "metadata": {},
   "outputs": [
    {
     "data": {
      "text/plain": [
       "array(['AUTOMOVIL', 'CAMIONETA', 'CAMION', 'FURGON', 'MINIBUS', 'MOTO',\n",
       "       'BICIMOTO', 'JEEP', 'STATION WAGON', 'TRACTOR', 'CAMION LIVIANO',\n",
       "       'CUATRIMOTO', 'MOTONETA', 'AMBULANCIA', 'MAQUINA INDUSTRIAL',\n",
       "       'LOC. COLECTIVA', 'CASA RODANTE MOTOR', 'CHASSIS', 'BUS',\n",
       "       'TRIMOTO', 'MAQUINA AGRICOLA', 'CARROBOMBA', 'TRICICLO CON MOTOR',\n",
       "       'COCHE MORTUORIO', 'TROLEBUS', 'REMOLQUE', 'BUGGI', 'LIMUSINA',\n",
       "       'BICICLETA MOTOR', 'TRACTOR ANFIBIO', 'MAQ. INDUSTRIAL',\n",
       "       'TODO TERRENO'], dtype=object)"
      ]
     },
     "execution_count": 5,
     "metadata": {},
     "output_type": "execute_result"
    }
   ],
   "source": [
    "df['Tipo'].unique()"
   ]
  },
  {
   "cell_type": "code",
   "execution_count": 6,
   "id": "c0b22d74",
   "metadata": {},
   "outputs": [],
   "source": [
    "# Solo Camiones\n",
    "\n",
    "df = df[(df['Tipo'] == 'CAMION') & (df['Marca'] == 'MACK')]"
   ]
  },
  {
   "cell_type": "code",
   "execution_count": 7,
   "id": "c9a8d436",
   "metadata": {},
   "outputs": [
    {
     "data": {
      "text/plain": [
       "(11218, 16)"
      ]
     },
     "execution_count": 7,
     "metadata": {},
     "output_type": "execute_result"
    }
   ],
   "source": [
    "df.shape"
   ]
  },
  {
   "cell_type": "code",
   "execution_count": 8,
   "id": "c6071652",
   "metadata": {},
   "outputs": [],
   "source": [
    "df.to_csv(URL+'Mack.csv', index = False) "
   ]
  },
  {
   "cell_type": "code",
   "execution_count": null,
   "id": "f62d7f36",
   "metadata": {},
   "outputs": [],
   "source": []
  }
 ],
 "metadata": {
  "kernelspec": {
   "display_name": "Python 3",
   "language": "python",
   "name": "python3"
  },
  "language_info": {
   "codemirror_mode": {
    "name": "ipython",
    "version": 3
   },
   "file_extension": ".py",
   "mimetype": "text/x-python",
   "name": "python",
   "nbconvert_exporter": "python",
   "pygments_lexer": "ipython3",
   "version": "3.8.8"
  }
 },
 "nbformat": 4,
 "nbformat_minor": 5
}
