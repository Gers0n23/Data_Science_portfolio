{
 "cells": [
  {
   "cell_type": "code",
   "execution_count": 16,
   "id": "653cbbde",
   "metadata": {},
   "outputs": [],
   "source": [
    "import pandas as pd"
   ]
  },
  {
   "cell_type": "code",
   "execution_count": 17,
   "id": "35ba7204",
   "metadata": {},
   "outputs": [],
   "source": [
    "main_path = 'C:/Users/juan.vergara/OneDrive - Caren Repuestos Flotacentro/Documentos/Análisis/Parque Automotriz/Parque en Bruto para Modelo/'"
   ]
  },
  {
   "cell_type": "code",
   "execution_count": 18,
   "id": "e547b8fe",
   "metadata": {},
   "outputs": [
    {
     "name": "stderr",
     "output_type": "stream",
     "text": [
      "C:\\ProgramData\\Anaconda3\\lib\\site-packages\\IPython\\core\\interactiveshell.py:3165: DtypeWarning: Columns (15) have mixed types.Specify dtype option on import or set low_memory=False.\n",
      "  has_raised = await self.run_ast_nodes(code_ast.body, cell_name,\n"
     ]
    }
   ],
   "source": [
    "df_parque = pd.read_csv(main_path + 'ParqueAutomotriz2020_Modelo.csv')"
   ]
  },
  {
   "cell_type": "code",
   "execution_count": 19,
   "id": "f5b0e99b",
   "metadata": {},
   "outputs": [],
   "source": [
    "df_tipo = pd.read_excel(main_path + 'Dim_TipoVehiculo.xlsx', sheet_name='Hoja1')"
   ]
  },
  {
   "cell_type": "code",
   "execution_count": 20,
   "id": "e22a1302",
   "metadata": {},
   "outputs": [
    {
     "data": {
      "text/plain": [
       "Index(['ppu', 'dv_ppu', 'ano_fab', 'color', 'motor', 'chasis', 'rut', 'dv',\n",
       "       'nomtot', 'tp_motor_fantasia', 'tp_marcaMotor', 'tp_vigencia', 'Marca',\n",
       "       'Tipo', 'Modelo', 'lmat_vigencia', 'Consumo_Teorico_Lubricantes',\n",
       "       'Consumo_Teorico_Neumaticos', 'Consumo_Teorico_Repuestos',\n",
       "       'Consumo_Teorico_Repuestos_TM', 'Consumo_Teorico_Total', 'RUT_Final',\n",
       "       'mantencion', 'leasing'],\n",
       "      dtype='object')"
      ]
     },
     "execution_count": 20,
     "metadata": {},
     "output_type": "execute_result"
    }
   ],
   "source": [
    "df_parque.columns"
   ]
  },
  {
   "cell_type": "code",
   "execution_count": 21,
   "id": "33d44dcd",
   "metadata": {},
   "outputs": [
    {
     "data": {
      "text/plain": [
       "Index(['tipo', 'tipo_corto', 'clasificacion'], dtype='object')"
      ]
     },
     "execution_count": 21,
     "metadata": {},
     "output_type": "execute_result"
    }
   ],
   "source": [
    "df_tipo.columns"
   ]
  },
  {
   "cell_type": "code",
   "execution_count": 22,
   "id": "3b08f209",
   "metadata": {},
   "outputs": [],
   "source": [
    "df_parque = df_parque[['ppu','dv_ppu','ano_fab', 'color', 'motor', 'chasis','tp_motor_fantasia', 'tp_marcaMotor','Marca',\n",
    "       'Tipo', 'Modelo']]"
   ]
  },
  {
   "cell_type": "code",
   "execution_count": 23,
   "id": "3fdc0fab",
   "metadata": {},
   "outputs": [
    {
     "data": {
      "text/html": [
       "<div>\n",
       "<style scoped>\n",
       "    .dataframe tbody tr th:only-of-type {\n",
       "        vertical-align: middle;\n",
       "    }\n",
       "\n",
       "    .dataframe tbody tr th {\n",
       "        vertical-align: top;\n",
       "    }\n",
       "\n",
       "    .dataframe thead th {\n",
       "        text-align: right;\n",
       "    }\n",
       "</style>\n",
       "<table border=\"1\" class=\"dataframe\">\n",
       "  <thead>\n",
       "    <tr style=\"text-align: right;\">\n",
       "      <th></th>\n",
       "      <th>ppu</th>\n",
       "      <th>dv_ppu</th>\n",
       "      <th>ano_fab</th>\n",
       "      <th>color</th>\n",
       "      <th>motor</th>\n",
       "      <th>chasis</th>\n",
       "      <th>tp_motor_fantasia</th>\n",
       "      <th>tp_marcaMotor</th>\n",
       "      <th>Marca</th>\n",
       "      <th>Tipo</th>\n",
       "      <th>Modelo</th>\n",
       "    </tr>\n",
       "  </thead>\n",
       "  <tbody>\n",
       "    <tr>\n",
       "      <th>0</th>\n",
       "      <td>AC9316</td>\n",
       "      <td>7</td>\n",
       "      <td>1993</td>\n",
       "      <td>NEGRO</td>\n",
       "      <td>2323226</td>\n",
       "      <td>1305579</td>\n",
       "      <td>NaN</td>\n",
       "      <td>NaN</td>\n",
       "      <td>LADA</td>\n",
       "      <td>AUTOMOVIL</td>\n",
       "      <td>21053 1.5</td>\n",
       "    </tr>\n",
       "    <tr>\n",
       "      <th>1</th>\n",
       "      <td>AC9317</td>\n",
       "      <td>5</td>\n",
       "      <td>1993</td>\n",
       "      <td>AZUL</td>\n",
       "      <td>235034</td>\n",
       "      <td>TFR16HDL-E-B-1471</td>\n",
       "      <td>NaN</td>\n",
       "      <td>NaN</td>\n",
       "      <td>CHEVROLET</td>\n",
       "      <td>CAMIONETA</td>\n",
       "      <td>LUV 2.3 D CAB</td>\n",
       "    </tr>\n",
       "    <tr>\n",
       "      <th>2</th>\n",
       "      <td>AC9318</td>\n",
       "      <td>3</td>\n",
       "      <td>1993</td>\n",
       "      <td>BEIGE</td>\n",
       "      <td>1635</td>\n",
       "      <td>874207</td>\n",
       "      <td>NaN</td>\n",
       "      <td>NaN</td>\n",
       "      <td>PEUGEOT</td>\n",
       "      <td>AUTOMOVIL</td>\n",
       "      <td>605 SLI 2.0</td>\n",
       "    </tr>\n",
       "    <tr>\n",
       "      <th>3</th>\n",
       "      <td>AC9319</td>\n",
       "      <td>1</td>\n",
       "      <td>1993</td>\n",
       "      <td>ROJO</td>\n",
       "      <td>237353</td>\n",
       "      <td>TFS16HDL-E-0423</td>\n",
       "      <td>NaN</td>\n",
       "      <td>NaN</td>\n",
       "      <td>CHEVROLET</td>\n",
       "      <td>CAMIONETA</td>\n",
       "      <td>LUV 4X4 D CAB CKD E</td>\n",
       "    </tr>\n",
       "    <tr>\n",
       "      <th>4</th>\n",
       "      <td>AC9320</td>\n",
       "      <td>5</td>\n",
       "      <td>1993</td>\n",
       "      <td>AZUL</td>\n",
       "      <td>232862</td>\n",
       "      <td>TFR16HDL-E-B-1354</td>\n",
       "      <td>NaN</td>\n",
       "      <td>NaN</td>\n",
       "      <td>CHEVROLET</td>\n",
       "      <td>CAMIONETA</td>\n",
       "      <td>LUV 2.3 D CAB</td>\n",
       "    </tr>\n",
       "  </tbody>\n",
       "</table>\n",
       "</div>"
      ],
      "text/plain": [
       "      ppu dv_ppu  ano_fab  color    motor             chasis  \\\n",
       "0  AC9316      7     1993  NEGRO  2323226            1305579   \n",
       "1  AC9317      5     1993   AZUL   235034  TFR16HDL-E-B-1471   \n",
       "2  AC9318      3     1993  BEIGE     1635             874207   \n",
       "3  AC9319      1     1993   ROJO   237353    TFS16HDL-E-0423   \n",
       "4  AC9320      5     1993   AZUL   232862  TFR16HDL-E-B-1354   \n",
       "\n",
       "  tp_motor_fantasia tp_marcaMotor      Marca       Tipo               Modelo  \n",
       "0               NaN           NaN       LADA  AUTOMOVIL            21053 1.5  \n",
       "1               NaN           NaN  CHEVROLET  CAMIONETA        LUV 2.3 D CAB  \n",
       "2               NaN           NaN    PEUGEOT  AUTOMOVIL          605 SLI 2.0  \n",
       "3               NaN           NaN  CHEVROLET  CAMIONETA  LUV 4X4 D CAB CKD E  \n",
       "4               NaN           NaN  CHEVROLET  CAMIONETA        LUV 2.3 D CAB  "
      ]
     },
     "execution_count": 23,
     "metadata": {},
     "output_type": "execute_result"
    }
   ],
   "source": [
    "df_parque.head()"
   ]
  },
  {
   "cell_type": "code",
   "execution_count": 24,
   "id": "4e5ab2ea",
   "metadata": {},
   "outputs": [],
   "source": [
    "df_tipo = df_tipo[['tipo','clasificacion']]\n",
    "df_tipo.columns = ['Tipo', 'Clasificacion']"
   ]
  },
  {
   "cell_type": "code",
   "execution_count": 25,
   "id": "960115e6",
   "metadata": {},
   "outputs": [],
   "source": [
    "df_parque = pd.merge(df_parque, df_tipo, on = 'Tipo', how = 'left')"
   ]
  },
  {
   "cell_type": "code",
   "execution_count": 26,
   "id": "9f248ecd",
   "metadata": {},
   "outputs": [],
   "source": [
    "df_parque = df_parque[df_parque['Marca'].isin(['HYUNDAI','HINO'])]"
   ]
  },
  {
   "cell_type": "code",
   "execution_count": 27,
   "id": "7945beb4",
   "metadata": {},
   "outputs": [
    {
     "data": {
      "text/html": [
       "<div>\n",
       "<style scoped>\n",
       "    .dataframe tbody tr th:only-of-type {\n",
       "        vertical-align: middle;\n",
       "    }\n",
       "\n",
       "    .dataframe tbody tr th {\n",
       "        vertical-align: top;\n",
       "    }\n",
       "\n",
       "    .dataframe thead th {\n",
       "        text-align: right;\n",
       "    }\n",
       "</style>\n",
       "<table border=\"1\" class=\"dataframe\">\n",
       "  <thead>\n",
       "    <tr style=\"text-align: right;\">\n",
       "      <th></th>\n",
       "      <th>ppu</th>\n",
       "      <th>dv_ppu</th>\n",
       "      <th>ano_fab</th>\n",
       "      <th>color</th>\n",
       "      <th>motor</th>\n",
       "      <th>chasis</th>\n",
       "      <th>tp_motor_fantasia</th>\n",
       "      <th>tp_marcaMotor</th>\n",
       "      <th>Marca</th>\n",
       "      <th>Tipo</th>\n",
       "      <th>Modelo</th>\n",
       "      <th>Clasificacion</th>\n",
       "    </tr>\n",
       "  </thead>\n",
       "  <tbody>\n",
       "    <tr>\n",
       "      <th>140</th>\n",
       "      <td>AC9907</td>\n",
       "      <td>6</td>\n",
       "      <td>1992</td>\n",
       "      <td>GRIS</td>\n",
       "      <td>G4CRM-599456</td>\n",
       "      <td>KMHJF31RPNU-120887</td>\n",
       "      <td>NaN</td>\n",
       "      <td>NaN</td>\n",
       "      <td>HYUNDAI</td>\n",
       "      <td>AUTOMOVIL</td>\n",
       "      <td>ELANTRA 1.6</td>\n",
       "      <td>LIVIANO</td>\n",
       "    </tr>\n",
       "    <tr>\n",
       "      <th>568</th>\n",
       "      <td>AB2375</td>\n",
       "      <td>9</td>\n",
       "      <td>1991</td>\n",
       "      <td>PLATEADO</td>\n",
       "      <td>G4DJ-987575</td>\n",
       "      <td>KMHVF31JPMU413287</td>\n",
       "      <td>NaN</td>\n",
       "      <td>NaN</td>\n",
       "      <td>HYUNDAI</td>\n",
       "      <td>AUTOMOVIL</td>\n",
       "      <td>EXCEL 1.5</td>\n",
       "      <td>LIVIANO</td>\n",
       "    </tr>\n",
       "    <tr>\n",
       "      <th>571</th>\n",
       "      <td>AB2378</td>\n",
       "      <td>3</td>\n",
       "      <td>1991</td>\n",
       "      <td>GRIS</td>\n",
       "      <td>D4BXM276764</td>\n",
       "      <td>KMJFD37XPMU105508</td>\n",
       "      <td>D4BX / HYUNDAI</td>\n",
       "      <td>HYUNDAI</td>\n",
       "      <td>HYUNDAI</td>\n",
       "      <td>MINIBUS</td>\n",
       "      <td>GRACE H 100</td>\n",
       "      <td>PESADO</td>\n",
       "    </tr>\n",
       "    <tr>\n",
       "      <th>578</th>\n",
       "      <td>AB2386</td>\n",
       "      <td>4</td>\n",
       "      <td>2002</td>\n",
       "      <td>ROJO</td>\n",
       "      <td>D4BH1-370867</td>\n",
       "      <td>KMXKPE1CP2U-440350</td>\n",
       "      <td>NaN</td>\n",
       "      <td>NaN</td>\n",
       "      <td>HYUNDAI</td>\n",
       "      <td>STATION WAGON</td>\n",
       "      <td>GALLOPER 2.5</td>\n",
       "      <td>LIVIANO</td>\n",
       "    </tr>\n",
       "    <tr>\n",
       "      <th>582</th>\n",
       "      <td>AB2390</td>\n",
       "      <td>2</td>\n",
       "      <td>1991</td>\n",
       "      <td>PLATEADO</td>\n",
       "      <td>G4DJM064281</td>\n",
       "      <td>KMHJF31JPMU057704</td>\n",
       "      <td>NaN</td>\n",
       "      <td>NaN</td>\n",
       "      <td>HYUNDAI</td>\n",
       "      <td>AUTOMOVIL</td>\n",
       "      <td>ELANTRA 1.5</td>\n",
       "      <td>LIVIANO</td>\n",
       "    </tr>\n",
       "  </tbody>\n",
       "</table>\n",
       "</div>"
      ],
      "text/plain": [
       "        ppu dv_ppu  ano_fab     color         motor              chasis  \\\n",
       "140  AC9907      6     1992      GRIS  G4CRM-599456  KMHJF31RPNU-120887   \n",
       "568  AB2375      9     1991  PLATEADO   G4DJ-987575   KMHVF31JPMU413287   \n",
       "571  AB2378      3     1991      GRIS   D4BXM276764   KMJFD37XPMU105508   \n",
       "578  AB2386      4     2002      ROJO  D4BH1-370867  KMXKPE1CP2U-440350   \n",
       "582  AB2390      2     1991  PLATEADO   G4DJM064281   KMHJF31JPMU057704   \n",
       "\n",
       "    tp_motor_fantasia tp_marcaMotor    Marca           Tipo        Modelo  \\\n",
       "140               NaN           NaN  HYUNDAI      AUTOMOVIL   ELANTRA 1.6   \n",
       "568               NaN           NaN  HYUNDAI      AUTOMOVIL     EXCEL 1.5   \n",
       "571    D4BX / HYUNDAI       HYUNDAI  HYUNDAI        MINIBUS   GRACE H 100   \n",
       "578               NaN           NaN  HYUNDAI  STATION WAGON  GALLOPER 2.5   \n",
       "582               NaN           NaN  HYUNDAI      AUTOMOVIL   ELANTRA 1.5   \n",
       "\n",
       "    Clasificacion  \n",
       "140       LIVIANO  \n",
       "568       LIVIANO  \n",
       "571        PESADO  \n",
       "578       LIVIANO  \n",
       "582       LIVIANO  "
      ]
     },
     "execution_count": 27,
     "metadata": {},
     "output_type": "execute_result"
    }
   ],
   "source": [
    "df_parque.head()"
   ]
  },
  {
   "cell_type": "code",
   "execution_count": 28,
   "id": "202f5834",
   "metadata": {},
   "outputs": [
    {
     "data": {
      "text/plain": [
       "(702215, 12)"
      ]
     },
     "execution_count": 28,
     "metadata": {},
     "output_type": "execute_result"
    }
   ],
   "source": [
    "df_parque.shape"
   ]
  },
  {
   "cell_type": "code",
   "execution_count": 29,
   "id": "9889bded",
   "metadata": {},
   "outputs": [
    {
     "data": {
      "text/plain": [
       "Index(['ppu', 'dv_ppu', 'ano_fab', 'color', 'motor', 'chasis',\n",
       "       'tp_motor_fantasia', 'tp_marcaMotor', 'Marca', 'Tipo', 'Modelo',\n",
       "       'Clasificacion'],\n",
       "      dtype='object')"
      ]
     },
     "execution_count": 29,
     "metadata": {},
     "output_type": "execute_result"
    }
   ],
   "source": [
    "df_parque.columns"
   ]
  },
  {
   "cell_type": "code",
   "execution_count": 30,
   "id": "16c74c45",
   "metadata": {},
   "outputs": [],
   "source": [
    "df_parque.to_csv(main_path + 'PESADOS HYUNDAI HINO.csv', index = False)"
   ]
  },
  {
   "cell_type": "code",
   "execution_count": null,
   "id": "ce7a6f12",
   "metadata": {},
   "outputs": [],
   "source": []
  }
 ],
 "metadata": {
  "kernelspec": {
   "display_name": "Python 3",
   "language": "python",
   "name": "python3"
  },
  "language_info": {
   "codemirror_mode": {
    "name": "ipython",
    "version": 3
   },
   "file_extension": ".py",
   "mimetype": "text/x-python",
   "name": "python",
   "nbconvert_exporter": "python",
   "pygments_lexer": "ipython3",
   "version": "3.8.8"
  }
 },
 "nbformat": 4,
 "nbformat_minor": 5
}
