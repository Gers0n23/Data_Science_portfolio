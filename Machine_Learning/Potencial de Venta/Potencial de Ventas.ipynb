{
 "cells": [
  {
   "cell_type": "code",
   "execution_count": 1,
   "id": "c5d01d8e",
   "metadata": {},
   "outputs": [],
   "source": [
    "import pandas as pd\n",
    "import numpy as np\n",
    "import matplotlib.pyplot as plt\n",
    "import seaborn as sns"
   ]
  },
  {
   "cell_type": "code",
   "execution_count": 2,
   "id": "674edca0",
   "metadata": {},
   "outputs": [],
   "source": [
    "# Ubicación archivos\n",
    "URL = 'C:/Users/juan.vergara/OneDrive - Caren Repuestos Flotacentro/Documentos/Análisis/Parque Automotriz/Parque en Bruto para Modelo/'"
   ]
  },
  {
   "cell_type": "code",
   "execution_count": 3,
   "id": "5769203c",
   "metadata": {},
   "outputs": [],
   "source": [
    "# Parque Automotriz\n",
    "df_parque = pd.read_csv(URL+'ParqueAutomotriz2020.csv')"
   ]
  },
  {
   "cell_type": "code",
   "execution_count": 4,
   "id": "13f99321",
   "metadata": {},
   "outputs": [
    {
     "data": {
      "text/plain": [
       "7842085"
      ]
     },
     "execution_count": 4,
     "metadata": {},
     "output_type": "execute_result"
    }
   ],
   "source": [
    "df_parque.shape[0]"
   ]
  },
  {
   "cell_type": "code",
   "execution_count": 5,
   "id": "bf145204",
   "metadata": {},
   "outputs": [
    {
     "data": {
      "text/plain": [
       "Index(['ppu', 'dv_ppu', 'ano_fab', 'color', 'motor', 'chasis', 'rut', 'dv',\n",
       "       'nomtot', 'tp_motor_fantasia', 'tp_marcaMotor', 'tp_vigencia', 'Marca',\n",
       "       'Tipo', 'Modelo', 'Consumo_Teorico_Lubricantes',\n",
       "       'Consumo_Teorico_Neumaticos', 'Consumo_Teorico_Repuestos',\n",
       "       'Consumo_Teorico_Total', 'RUT_Final'],\n",
       "      dtype='object')"
      ]
     },
     "execution_count": 5,
     "metadata": {},
     "output_type": "execute_result"
    }
   ],
   "source": [
    "df_parque.columns"
   ]
  },
  {
   "cell_type": "code",
   "execution_count": 6,
   "id": "fc9ea4c8",
   "metadata": {},
   "outputs": [],
   "source": [
    "# Después del 2000\n",
    "df_parque = df_parque[df_parque['ano_fab'] >= 2000]"
   ]
  },
  {
   "cell_type": "code",
   "execution_count": 7,
   "id": "72d6d656",
   "metadata": {},
   "outputs": [
    {
     "data": {
      "text/plain": [
       "6266808"
      ]
     },
     "execution_count": 7,
     "metadata": {},
     "output_type": "execute_result"
    }
   ],
   "source": [
    "df_parque.shape[0]"
   ]
  },
  {
   "cell_type": "code",
   "execution_count": 8,
   "id": "0394b2d9",
   "metadata": {},
   "outputs": [],
   "source": [
    "# Borrando los NaN\n",
    "df_parque.dropna(subset = [\"Consumo_Teorico_Total\"], inplace=True)"
   ]
  },
  {
   "cell_type": "code",
   "execution_count": 9,
   "id": "43699fe2",
   "metadata": {},
   "outputs": [
    {
     "data": {
      "text/plain": [
       "4187299"
      ]
     },
     "execution_count": 9,
     "metadata": {},
     "output_type": "execute_result"
    }
   ],
   "source": [
    "df_parque.shape[0]"
   ]
  },
  {
   "cell_type": "code",
   "execution_count": 10,
   "id": "716f85a0",
   "metadata": {},
   "outputs": [
    {
     "data": {
      "text/html": [
       "<div>\n",
       "<style scoped>\n",
       "    .dataframe tbody tr th:only-of-type {\n",
       "        vertical-align: middle;\n",
       "    }\n",
       "\n",
       "    .dataframe tbody tr th {\n",
       "        vertical-align: top;\n",
       "    }\n",
       "\n",
       "    .dataframe thead th {\n",
       "        text-align: right;\n",
       "    }\n",
       "</style>\n",
       "<table border=\"1\" class=\"dataframe\">\n",
       "  <thead>\n",
       "    <tr style=\"text-align: right;\">\n",
       "      <th></th>\n",
       "      <th>ppu</th>\n",
       "      <th>dv_ppu</th>\n",
       "      <th>ano_fab</th>\n",
       "      <th>color</th>\n",
       "      <th>motor</th>\n",
       "      <th>chasis</th>\n",
       "      <th>rut</th>\n",
       "      <th>dv</th>\n",
       "      <th>nomtot</th>\n",
       "      <th>tp_motor_fantasia</th>\n",
       "      <th>tp_marcaMotor</th>\n",
       "      <th>tp_vigencia</th>\n",
       "      <th>Marca</th>\n",
       "      <th>Tipo</th>\n",
       "      <th>Modelo</th>\n",
       "      <th>Consumo_Teorico_Lubricantes</th>\n",
       "      <th>Consumo_Teorico_Neumaticos</th>\n",
       "      <th>Consumo_Teorico_Repuestos</th>\n",
       "      <th>Consumo_Teorico_Total</th>\n",
       "      <th>RUT_Final</th>\n",
       "    </tr>\n",
       "  </thead>\n",
       "  <tbody>\n",
       "    <tr>\n",
       "      <th>101</th>\n",
       "      <td>AC9708</td>\n",
       "      <td>1</td>\n",
       "      <td>2003</td>\n",
       "      <td>PLATEADO</td>\n",
       "      <td>W021780815</td>\n",
       "      <td>9BG138FW03C418739</td>\n",
       "      <td>8872397</td>\n",
       "      <td>K</td>\n",
       "      <td>CORTES ESCOBAR JOSE ERNESTO</td>\n",
       "      <td>NaN</td>\n",
       "      <td>NaN</td>\n",
       "      <td>NaN</td>\n",
       "      <td>CHEVROLET</td>\n",
       "      <td>CAMIONETA</td>\n",
       "      <td>S 10 D CAB 4X4</td>\n",
       "      <td>0.0</td>\n",
       "      <td>37500.0</td>\n",
       "      <td>0.0</td>\n",
       "      <td>37500.0</td>\n",
       "      <td>8872397.0</td>\n",
       "    </tr>\n",
       "    <tr>\n",
       "      <th>577</th>\n",
       "      <td>AB2385</td>\n",
       "      <td>6</td>\n",
       "      <td>2002</td>\n",
       "      <td>BLANCO</td>\n",
       "      <td>904925-508225</td>\n",
       "      <td>9BM693028-1B-277354</td>\n",
       "      <td>69251100</td>\n",
       "      <td>K</td>\n",
       "      <td>ILUSTRE MUNICIPALIDAD DE CAMINA</td>\n",
       "      <td>OM-904-LA / MERC. BENZ</td>\n",
       "      <td>MERCEDES BENZ</td>\n",
       "      <td>V</td>\n",
       "      <td>MERCEDES BENZ</td>\n",
       "      <td>CAMION</td>\n",
       "      <td>ATEGO 1315</td>\n",
       "      <td>416590.0</td>\n",
       "      <td>1000000.0</td>\n",
       "      <td>1500000.0</td>\n",
       "      <td>2916590.0</td>\n",
       "      <td>69251100.0</td>\n",
       "    </tr>\n",
       "    <tr>\n",
       "      <th>585</th>\n",
       "      <td>AB2393</td>\n",
       "      <td>7</td>\n",
       "      <td>2003</td>\n",
       "      <td>BLANCO</td>\n",
       "      <td>D4BF2-677335</td>\n",
       "      <td>KMJFD37FP3K-551078</td>\n",
       "      <td>6741524</td>\n",
       "      <td>8</td>\n",
       "      <td>ARCE FLORES CORNELIO</td>\n",
       "      <td>D4BF / HYUNDAI</td>\n",
       "      <td>HYUNDAI</td>\n",
       "      <td>V</td>\n",
       "      <td>HYUNDAI</td>\n",
       "      <td>MINIBUS</td>\n",
       "      <td>GRACE H 100</td>\n",
       "      <td>120000.0</td>\n",
       "      <td>200000.0</td>\n",
       "      <td>400000.0</td>\n",
       "      <td>720000.0</td>\n",
       "      <td>6741524.0</td>\n",
       "    </tr>\n",
       "    <tr>\n",
       "      <th>588</th>\n",
       "      <td>AB2396</td>\n",
       "      <td>1</td>\n",
       "      <td>2004</td>\n",
       "      <td>VERDE</td>\n",
       "      <td>YD25110790A</td>\n",
       "      <td>JN1CPGD22U0760654</td>\n",
       "      <td>69251100</td>\n",
       "      <td>K</td>\n",
       "      <td>ILUSTRE MUNICIPALIDAD DE CAMINA</td>\n",
       "      <td>NaN</td>\n",
       "      <td>NaN</td>\n",
       "      <td>NaN</td>\n",
       "      <td>NISSAN</td>\n",
       "      <td>CAMIONETA</td>\n",
       "      <td>TERRANO DX D CAB 2.5</td>\n",
       "      <td>0.0</td>\n",
       "      <td>37500.0</td>\n",
       "      <td>0.0</td>\n",
       "      <td>37500.0</td>\n",
       "      <td>69251100.0</td>\n",
       "    </tr>\n",
       "    <tr>\n",
       "      <th>591</th>\n",
       "      <td>AB2399</td>\n",
       "      <td>6</td>\n",
       "      <td>2006</td>\n",
       "      <td>NARANJO</td>\n",
       "      <td>904957638976</td>\n",
       "      <td>9BM6882765B431151</td>\n",
       "      <td>69251100</td>\n",
       "      <td>K</td>\n",
       "      <td>ILUSTRE MUNICIPALIDAD DE CAMINA</td>\n",
       "      <td>OM-904-LA / MERC. BENZ</td>\n",
       "      <td>MERCEDES BENZ</td>\n",
       "      <td>V</td>\n",
       "      <td>MERCEDES BENZ</td>\n",
       "      <td>LOC. COLECTIVA</td>\n",
       "      <td>LO 915</td>\n",
       "      <td>208295.0</td>\n",
       "      <td>511467.0</td>\n",
       "      <td>900000.0</td>\n",
       "      <td>1619762.0</td>\n",
       "      <td>69251100.0</td>\n",
       "    </tr>\n",
       "  </tbody>\n",
       "</table>\n",
       "</div>"
      ],
      "text/plain": [
       "        ppu dv_ppu  ano_fab     color          motor               chasis  \\\n",
       "101  AC9708      1     2003  PLATEADO     W021780815    9BG138FW03C418739   \n",
       "577  AB2385      6     2002    BLANCO  904925-508225  9BM693028-1B-277354   \n",
       "585  AB2393      7     2003    BLANCO   D4BF2-677335   KMJFD37FP3K-551078   \n",
       "588  AB2396      1     2004     VERDE    YD25110790A    JN1CPGD22U0760654   \n",
       "591  AB2399      6     2006   NARANJO   904957638976    9BM6882765B431151   \n",
       "\n",
       "          rut dv                           nomtot       tp_motor_fantasia  \\\n",
       "101   8872397  K      CORTES ESCOBAR JOSE ERNESTO                     NaN   \n",
       "577  69251100  K  ILUSTRE MUNICIPALIDAD DE CAMINA  OM-904-LA / MERC. BENZ   \n",
       "585   6741524  8             ARCE FLORES CORNELIO          D4BF / HYUNDAI   \n",
       "588  69251100  K  ILUSTRE MUNICIPALIDAD DE CAMINA                     NaN   \n",
       "591  69251100  K  ILUSTRE MUNICIPALIDAD DE CAMINA  OM-904-LA / MERC. BENZ   \n",
       "\n",
       "     tp_marcaMotor tp_vigencia          Marca            Tipo  \\\n",
       "101            NaN         NaN      CHEVROLET       CAMIONETA   \n",
       "577  MERCEDES BENZ           V  MERCEDES BENZ          CAMION   \n",
       "585        HYUNDAI           V        HYUNDAI         MINIBUS   \n",
       "588            NaN         NaN         NISSAN       CAMIONETA   \n",
       "591  MERCEDES BENZ           V  MERCEDES BENZ  LOC. COLECTIVA   \n",
       "\n",
       "                   Modelo  Consumo_Teorico_Lubricantes  \\\n",
       "101        S 10 D CAB 4X4                          0.0   \n",
       "577            ATEGO 1315                     416590.0   \n",
       "585           GRACE H 100                     120000.0   \n",
       "588  TERRANO DX D CAB 2.5                          0.0   \n",
       "591                LO 915                     208295.0   \n",
       "\n",
       "     Consumo_Teorico_Neumaticos  Consumo_Teorico_Repuestos  \\\n",
       "101                     37500.0                        0.0   \n",
       "577                   1000000.0                  1500000.0   \n",
       "585                    200000.0                   400000.0   \n",
       "588                     37500.0                        0.0   \n",
       "591                    511467.0                   900000.0   \n",
       "\n",
       "     Consumo_Teorico_Total   RUT_Final  \n",
       "101                37500.0   8872397.0  \n",
       "577              2916590.0  69251100.0  \n",
       "585               720000.0   6741524.0  \n",
       "588                37500.0  69251100.0  \n",
       "591              1619762.0  69251100.0  "
      ]
     },
     "execution_count": 10,
     "metadata": {},
     "output_type": "execute_result"
    }
   ],
   "source": [
    "df_parque.head(5)"
   ]
  },
  {
   "cell_type": "code",
   "execution_count": 11,
   "id": "895af687",
   "metadata": {},
   "outputs": [
    {
     "data": {
      "text/html": [
       "<div>\n",
       "<style scoped>\n",
       "    .dataframe tbody tr th:only-of-type {\n",
       "        vertical-align: middle;\n",
       "    }\n",
       "\n",
       "    .dataframe tbody tr th {\n",
       "        vertical-align: top;\n",
       "    }\n",
       "\n",
       "    .dataframe thead th {\n",
       "        text-align: right;\n",
       "    }\n",
       "</style>\n",
       "<table border=\"1\" class=\"dataframe\">\n",
       "  <thead>\n",
       "    <tr style=\"text-align: right;\">\n",
       "      <th></th>\n",
       "      <th>Tipo</th>\n",
       "      <th>tipo_corto</th>\n",
       "      <th>clasificacion</th>\n",
       "    </tr>\n",
       "  </thead>\n",
       "  <tbody>\n",
       "    <tr>\n",
       "      <th>0</th>\n",
       "      <td>AMBULANCIA</td>\n",
       "      <td>OTRO</td>\n",
       "      <td>OTRO</td>\n",
       "    </tr>\n",
       "    <tr>\n",
       "      <th>1</th>\n",
       "      <td>AUTOMOVIL</td>\n",
       "      <td>AUTOMOVIL</td>\n",
       "      <td>LIVIANO</td>\n",
       "    </tr>\n",
       "    <tr>\n",
       "      <th>2</th>\n",
       "      <td>BICICLETA MOTOR</td>\n",
       "      <td>OTRO</td>\n",
       "      <td>OTRO</td>\n",
       "    </tr>\n",
       "    <tr>\n",
       "      <th>3</th>\n",
       "      <td>BICIMOTO</td>\n",
       "      <td>OTRO</td>\n",
       "      <td>OTRO</td>\n",
       "    </tr>\n",
       "    <tr>\n",
       "      <th>4</th>\n",
       "      <td>BUGGI</td>\n",
       "      <td>OTRO</td>\n",
       "      <td>OTRO</td>\n",
       "    </tr>\n",
       "  </tbody>\n",
       "</table>\n",
       "</div>"
      ],
      "text/plain": [
       "              Tipo tipo_corto clasificacion\n",
       "0       AMBULANCIA       OTRO          OTRO\n",
       "1        AUTOMOVIL  AUTOMOVIL       LIVIANO\n",
       "2  BICICLETA MOTOR       OTRO          OTRO\n",
       "3         BICIMOTO       OTRO          OTRO\n",
       "4            BUGGI       OTRO          OTRO"
      ]
     },
     "execution_count": 11,
     "metadata": {},
     "output_type": "execute_result"
    }
   ],
   "source": [
    "# Clasificación tipo de vehículo\n",
    "df_tipo = pd.read_excel(URL+'Dim_TipoVehiculo.xlsx', sheet_name = 'Hoja1')\n",
    "df_tipo.columns = ['Tipo','tipo_corto','clasificacion']\n",
    "df_tipo.head()"
   ]
  },
  {
   "cell_type": "code",
   "execution_count": 12,
   "id": "963357bd",
   "metadata": {},
   "outputs": [],
   "source": [
    "df_parque = pd.merge(df_parque, df_tipo, on = 'Tipo', how = 'left')"
   ]
  },
  {
   "cell_type": "code",
   "execution_count": 13,
   "id": "1874e87a",
   "metadata": {},
   "outputs": [],
   "source": [
    "# Traducción Pesados\n",
    "df_parque.loc[(df_parque['tp_vigencia'] != 'V') & (df_parque['clasificacion'] == 'PESADO'), 'Consumo_Teorico_Neumaticos'] = 0"
   ]
  },
  {
   "cell_type": "code",
   "execution_count": 14,
   "id": "4a98e8d8",
   "metadata": {},
   "outputs": [
    {
     "data": {
      "text/html": [
       "<div>\n",
       "<style scoped>\n",
       "    .dataframe tbody tr th:only-of-type {\n",
       "        vertical-align: middle;\n",
       "    }\n",
       "\n",
       "    .dataframe tbody tr th {\n",
       "        vertical-align: top;\n",
       "    }\n",
       "\n",
       "    .dataframe thead th {\n",
       "        text-align: right;\n",
       "    }\n",
       "</style>\n",
       "<table border=\"1\" class=\"dataframe\">\n",
       "  <thead>\n",
       "    <tr style=\"text-align: right;\">\n",
       "      <th></th>\n",
       "      <th>llave_basetrabajo_pesados</th>\n",
       "      <th>vigencia</th>\n",
       "    </tr>\n",
       "  </thead>\n",
       "  <tbody>\n",
       "    <tr>\n",
       "      <th>0</th>\n",
       "      <td>AGRALE MA</td>\n",
       "      <td>V</td>\n",
       "    </tr>\n",
       "    <tr>\n",
       "      <th>1</th>\n",
       "      <td>FORD CARGO 915</td>\n",
       "      <td>V</td>\n",
       "    </tr>\n",
       "    <tr>\n",
       "      <th>2</th>\n",
       "      <td>FORD CARGO 1722</td>\n",
       "      <td>V</td>\n",
       "    </tr>\n",
       "    <tr>\n",
       "      <th>3</th>\n",
       "      <td>FORD CARGO 1723</td>\n",
       "      <td>V</td>\n",
       "    </tr>\n",
       "    <tr>\n",
       "      <th>4</th>\n",
       "      <td>FORD CARGO 1717</td>\n",
       "      <td>V</td>\n",
       "    </tr>\n",
       "    <tr>\n",
       "      <th>...</th>\n",
       "      <td>...</td>\n",
       "      <td>...</td>\n",
       "    </tr>\n",
       "    <tr>\n",
       "      <th>97</th>\n",
       "      <td>VOLVO FMX</td>\n",
       "      <td>V</td>\n",
       "    </tr>\n",
       "    <tr>\n",
       "      <th>98</th>\n",
       "      <td>VOLVO FM 11</td>\n",
       "      <td>V</td>\n",
       "    </tr>\n",
       "    <tr>\n",
       "      <th>99</th>\n",
       "      <td>VOLVO FM 13</td>\n",
       "      <td>V</td>\n",
       "    </tr>\n",
       "    <tr>\n",
       "      <th>100</th>\n",
       "      <td>VOLVO B420</td>\n",
       "      <td>V</td>\n",
       "    </tr>\n",
       "    <tr>\n",
       "      <th>101</th>\n",
       "      <td>VOLVO FH 13</td>\n",
       "      <td>V</td>\n",
       "    </tr>\n",
       "  </tbody>\n",
       "</table>\n",
       "<p>102 rows × 2 columns</p>\n",
       "</div>"
      ],
      "text/plain": [
       "    llave_basetrabajo_pesados vigencia\n",
       "0                   AGRALE MA        V\n",
       "1              FORD CARGO 915        V\n",
       "2             FORD CARGO 1722        V\n",
       "3             FORD CARGO 1723        V\n",
       "4             FORD CARGO 1717        V\n",
       "..                        ...      ...\n",
       "97                  VOLVO FMX        V\n",
       "98                VOLVO FM 11        V\n",
       "99                VOLVO FM 13        V\n",
       "100                VOLVO B420        V\n",
       "101               VOLVO FH 13        V\n",
       "\n",
       "[102 rows x 2 columns]"
      ]
     },
     "execution_count": 14,
     "metadata": {},
     "output_type": "execute_result"
    }
   ],
   "source": [
    "# Base a trabajar\n",
    "\n",
    "df_basetrabajo = pd.read_excel(URL + 'Listado de modelos a trabajar.xlsx', sheet_name = 'BD')\n",
    "df_basetrabajo = df_basetrabajo[['llave_basetrabajo_pesados','vigencia']]\n",
    "df_basetrabajo"
   ]
  },
  {
   "cell_type": "code",
   "execution_count": 15,
   "id": "f2b0f3ae",
   "metadata": {},
   "outputs": [],
   "source": [
    "# Left join\n",
    "\n",
    "df_parque['llave_basetrabajo_pesados'] = df_parque['Marca']+' '+df_parque['Modelo']\n",
    "\n",
    "df_parque = pd.merge(df_parque, df_basetrabajo, on = 'llave_basetrabajo_pesados', how = 'left')"
   ]
  },
  {
   "cell_type": "code",
   "execution_count": 16,
   "id": "b3cd70ca",
   "metadata": {},
   "outputs": [],
   "source": [
    "df_parque.loc[(df_parque['vigencia'] != 'V'), 'Consumo_Teorico_Repuestos'] = 0"
   ]
  },
  {
   "cell_type": "code",
   "execution_count": 17,
   "id": "2d981b9e",
   "metadata": {},
   "outputs": [],
   "source": [
    "# Recálculo Consumo Teórico Total\n",
    "df_parque.drop('Consumo_Teorico_Total',1)\n",
    "\n",
    "df_parque['Consumo_Teorico_Total'] = df_parque['Consumo_Teorico_Lubricantes'] + df_parque['Consumo_Teorico_Repuestos'] + df_parque['Consumo_Teorico_Neumaticos']\n",
    "\n"
   ]
  },
  {
   "cell_type": "code",
   "execution_count": 18,
   "id": "220458b1",
   "metadata": {},
   "outputs": [],
   "source": [
    "# Solo Pesados\n",
    "df_parque = df_parque[df_parque.clasificacion == 'PESADO']"
   ]
  },
  {
   "cell_type": "code",
   "execution_count": 19,
   "id": "a9176c35",
   "metadata": {},
   "outputs": [
    {
     "data": {
      "text/plain": [
       "479563"
      ]
     },
     "execution_count": 19,
     "metadata": {},
     "output_type": "execute_result"
    }
   ],
   "source": [
    "df_parque.shape[0]"
   ]
  },
  {
   "cell_type": "code",
   "execution_count": 20,
   "id": "0688cdc8",
   "metadata": {},
   "outputs": [
    {
     "data": {
      "text/html": [
       "<div>\n",
       "<style scoped>\n",
       "    .dataframe tbody tr th:only-of-type {\n",
       "        vertical-align: middle;\n",
       "    }\n",
       "\n",
       "    .dataframe tbody tr th {\n",
       "        vertical-align: top;\n",
       "    }\n",
       "\n",
       "    .dataframe thead th {\n",
       "        text-align: right;\n",
       "    }\n",
       "</style>\n",
       "<table border=\"1\" class=\"dataframe\">\n",
       "  <thead>\n",
       "    <tr style=\"text-align: right;\">\n",
       "      <th></th>\n",
       "      <th>RUT_Final</th>\n",
       "      <th>Consumo_Teorico_Total</th>\n",
       "      <th>Consumo_Teorico_Lubricantes</th>\n",
       "      <th>Consumo_Teorico_Repuestos</th>\n",
       "      <th>Consumo_Teorico_Neumaticos</th>\n",
       "    </tr>\n",
       "  </thead>\n",
       "  <tbody>\n",
       "    <tr>\n",
       "      <th>0</th>\n",
       "      <td>0.0</td>\n",
       "      <td>664213204.0</td>\n",
       "      <td>128002250.0</td>\n",
       "      <td>243100000.0</td>\n",
       "      <td>293110954.0</td>\n",
       "    </tr>\n",
       "    <tr>\n",
       "      <th>1</th>\n",
       "      <td>158189.0</td>\n",
       "      <td>320000.0</td>\n",
       "      <td>120000.0</td>\n",
       "      <td>0.0</td>\n",
       "      <td>200000.0</td>\n",
       "    </tr>\n",
       "    <tr>\n",
       "      <th>2</th>\n",
       "      <td>165920.0</td>\n",
       "      <td>320000.0</td>\n",
       "      <td>120000.0</td>\n",
       "      <td>0.0</td>\n",
       "      <td>200000.0</td>\n",
       "    </tr>\n",
       "    <tr>\n",
       "      <th>3</th>\n",
       "      <td>552734.0</td>\n",
       "      <td>4333180.0</td>\n",
       "      <td>833180.0</td>\n",
       "      <td>1500000.0</td>\n",
       "      <td>2000000.0</td>\n",
       "    </tr>\n",
       "    <tr>\n",
       "      <th>4</th>\n",
       "      <td>586078.0</td>\n",
       "      <td>11666360.0</td>\n",
       "      <td>1666360.0</td>\n",
       "      <td>6000000.0</td>\n",
       "      <td>4000000.0</td>\n",
       "    </tr>\n",
       "  </tbody>\n",
       "</table>\n",
       "</div>"
      ],
      "text/plain": [
       "   RUT_Final  Consumo_Teorico_Total  Consumo_Teorico_Lubricantes  \\\n",
       "0        0.0            664213204.0                  128002250.0   \n",
       "1   158189.0               320000.0                     120000.0   \n",
       "2   165920.0               320000.0                     120000.0   \n",
       "3   552734.0              4333180.0                     833180.0   \n",
       "4   586078.0             11666360.0                    1666360.0   \n",
       "\n",
       "   Consumo_Teorico_Repuestos  Consumo_Teorico_Neumaticos  \n",
       "0                243100000.0                 293110954.0  \n",
       "1                        0.0                    200000.0  \n",
       "2                        0.0                    200000.0  \n",
       "3                  1500000.0                   2000000.0  \n",
       "4                  6000000.0                   4000000.0  "
      ]
     },
     "execution_count": 20,
     "metadata": {},
     "output_type": "execute_result"
    }
   ],
   "source": [
    "# Consumo \n",
    "df_consumoporrut = df_parque.groupby(['RUT_Final']).agg(Consumo_Teorico_Total = ('Consumo_Teorico_Total','sum'), \n",
    "                                                        Consumo_Teorico_Lubricantes = ('Consumo_Teorico_Lubricantes','sum'),\n",
    "                                                       Consumo_Teorico_Repuestos = ('Consumo_Teorico_Repuestos','sum'),\n",
    "                                                       Consumo_Teorico_Neumaticos = ('Consumo_Teorico_Neumaticos','sum')).reset_index()\n",
    "df_consumoporrut.head()"
   ]
  },
  {
   "cell_type": "code",
   "execution_count": 21,
   "id": "9ebc8a98",
   "metadata": {},
   "outputs": [],
   "source": [
    "# condiciones\n",
    "\n",
    "condiciones = [(df_consumoporrut['Consumo_Teorico_Total'] < 10000000),\n",
    "              (df_consumoporrut['Consumo_Teorico_Total'] >= 10000000) & (df_consumoporrut['Consumo_Teorico_Total'] < 40000000),\n",
    "              (df_consumoporrut['Consumo_Teorico_Total'] >= 40000000) & (df_consumoporrut['Consumo_Teorico_Total'] < 200000000),\n",
    "              (df_consumoporrut['Consumo_Teorico_Total'] >= 200000000) & (df_consumoporrut['Consumo_Teorico_Total'] < 60000000),\n",
    "              (df_consumoporrut['Consumo_Teorico_Total'] >= 600000000) & (df_consumoporrut['Consumo_Teorico_Total'] < 1000000000),\n",
    "              (df_consumoporrut['Consumo_Teorico_Total'] >= 1000000000)]\n",
    "\n",
    "valores = ['1. [ , 10MM)','2. [10MM,40MM)','3. [40MM,200MM)','4. [200MM,600MM)','5. [600MM,1000MM)','6. [1000MM,)']\n",
    "\n",
    "df_consumoporrut['Categoria_Potencial'] = np.select(condiciones, valores)"
   ]
  },
  {
   "cell_type": "code",
   "execution_count": 22,
   "id": "7abc7274",
   "metadata": {},
   "outputs": [],
   "source": [
    "df_consumoporrut.to_csv(URL+'potencial_pesados_por_RUT.csv', index = False)"
   ]
  },
  {
   "cell_type": "code",
   "execution_count": 23,
   "id": "89802f9b",
   "metadata": {},
   "outputs": [
    {
     "name": "stdout",
     "output_type": "stream",
     "text": [
      "$ 299485163835.0\n",
      "US 374356454.79375\n"
     ]
    }
   ],
   "source": [
    "print('$', df_consumoporrut['Consumo_Teorico_Neumaticos'].sum())\n",
    "print('US',df_consumoporrut['Consumo_Teorico_Neumaticos'].sum()/800)"
   ]
  },
  {
   "cell_type": "code",
   "execution_count": 24,
   "id": "876853d3",
   "metadata": {},
   "outputs": [
    {
     "name": "stdout",
     "output_type": "stream",
     "text": [
      "$ 219297600000.0\n",
      "US 274122000.0\n"
     ]
    }
   ],
   "source": [
    "print('$', df_consumoporrut['Consumo_Teorico_Repuestos'].sum())\n",
    "print('US',df_consumoporrut['Consumo_Teorico_Repuestos'].sum()/800)"
   ]
  },
  {
   "cell_type": "code",
   "execution_count": 25,
   "id": "648082aa",
   "metadata": {},
   "outputs": [
    {
     "name": "stdout",
     "output_type": "stream",
     "text": [
      "$ 130706450410.0\n",
      "US 163383063.0125\n"
     ]
    }
   ],
   "source": [
    "print('$', df_consumoporrut['Consumo_Teorico_Lubricantes'].sum())\n",
    "print('US',df_consumoporrut['Consumo_Teorico_Lubricantes'].sum()/800)"
   ]
  },
  {
   "cell_type": "code",
   "execution_count": 26,
   "id": "6a59f5e5",
   "metadata": {},
   "outputs": [
    {
     "name": "stdout",
     "output_type": "stream",
     "text": [
      "$ 649489214245.0\n",
      "US 811861517.80625\n"
     ]
    }
   ],
   "source": [
    "print('$', df_consumoporrut['Consumo_Teorico_Total'].sum())\n",
    "print('US',df_consumoporrut['Consumo_Teorico_Total'].sum()/800)"
   ]
  },
  {
   "cell_type": "code",
   "execution_count": 27,
   "id": "fd053029",
   "metadata": {},
   "outputs": [],
   "source": [
    "df_consumoporrut = df_consumoporrut.groupby(['Categoria_Potencial']).agg(Num_RUT = ('RUT_Final', 'count')).reset_index()"
   ]
  },
  {
   "cell_type": "code",
   "execution_count": 28,
   "id": "3dc72033",
   "metadata": {},
   "outputs": [
    {
     "data": {
      "text/html": [
       "<div>\n",
       "<style scoped>\n",
       "    .dataframe tbody tr th:only-of-type {\n",
       "        vertical-align: middle;\n",
       "    }\n",
       "\n",
       "    .dataframe tbody tr th {\n",
       "        vertical-align: top;\n",
       "    }\n",
       "\n",
       "    .dataframe thead th {\n",
       "        text-align: right;\n",
       "    }\n",
       "</style>\n",
       "<table border=\"1\" class=\"dataframe\">\n",
       "  <thead>\n",
       "    <tr style=\"text-align: right;\">\n",
       "      <th></th>\n",
       "      <th>Categoria_Potencial</th>\n",
       "      <th>Num_RUT</th>\n",
       "    </tr>\n",
       "  </thead>\n",
       "  <tbody>\n",
       "    <tr>\n",
       "      <th>0</th>\n",
       "      <td>0</td>\n",
       "      <td>88</td>\n",
       "    </tr>\n",
       "    <tr>\n",
       "      <th>1</th>\n",
       "      <td>1. [ , 10MM)</td>\n",
       "      <td>164687</td>\n",
       "    </tr>\n",
       "    <tr>\n",
       "      <th>2</th>\n",
       "      <td>2. [10MM,40MM)</td>\n",
       "      <td>6777</td>\n",
       "    </tr>\n",
       "    <tr>\n",
       "      <th>3</th>\n",
       "      <td>3. [40MM,200MM)</td>\n",
       "      <td>974</td>\n",
       "    </tr>\n",
       "    <tr>\n",
       "      <th>4</th>\n",
       "      <td>5. [600MM,1000MM)</td>\n",
       "      <td>22</td>\n",
       "    </tr>\n",
       "    <tr>\n",
       "      <th>5</th>\n",
       "      <td>6. [1000MM,)</td>\n",
       "      <td>31</td>\n",
       "    </tr>\n",
       "  </tbody>\n",
       "</table>\n",
       "</div>"
      ],
      "text/plain": [
       "  Categoria_Potencial  Num_RUT\n",
       "0                   0       88\n",
       "1        1. [ , 10MM)   164687\n",
       "2      2. [10MM,40MM)     6777\n",
       "3     3. [40MM,200MM)      974\n",
       "4   5. [600MM,1000MM)       22\n",
       "5        6. [1000MM,)       31"
      ]
     },
     "execution_count": 28,
     "metadata": {},
     "output_type": "execute_result"
    }
   ],
   "source": [
    "df_consumoporrut"
   ]
  },
  {
   "cell_type": "code",
   "execution_count": null,
   "id": "63a06738",
   "metadata": {},
   "outputs": [],
   "source": [
    "#sns.set_style(\"whitegrid\") \n",
    "#bar, ax = plt.subplots(figsize=(10,6))\n",
    "\n",
    "#ax = sns.barplot(x = 'Categoría_Potencial', y = 'Num_RUT', data = df_consumoporrut)\n",
    "\n",
    "#ax.set_title(\"Pie chart approximation in Seaborn - Total Tip by Delivery Type\", fontsize = 15)\n",
    "#ax.set_xlabel (\"Delivery Type\")\n",
    "#ax.set_ylabel (\"Percentage\")"
   ]
  }
 ],
 "metadata": {
  "kernelspec": {
   "display_name": "Python 3",
   "language": "python",
   "name": "python3"
  },
  "language_info": {
   "codemirror_mode": {
    "name": "ipython",
    "version": 3
   },
   "file_extension": ".py",
   "mimetype": "text/x-python",
   "name": "python",
   "nbconvert_exporter": "python",
   "pygments_lexer": "ipython3",
   "version": "3.8.8"
  }
 },
 "nbformat": 4,
 "nbformat_minor": 5
}
