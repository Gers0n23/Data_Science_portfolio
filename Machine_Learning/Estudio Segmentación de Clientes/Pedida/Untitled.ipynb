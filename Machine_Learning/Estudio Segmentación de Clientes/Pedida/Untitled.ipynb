{
 "cells": [
  {
   "cell_type": "code",
   "execution_count": 1,
   "id": "f4d968b5",
   "metadata": {},
   "outputs": [],
   "source": [
    "import pandas as pd"
   ]
  },
  {
   "cell_type": "code",
   "execution_count": 2,
   "id": "360f0d33",
   "metadata": {},
   "outputs": [],
   "source": [
    "path = 'C:/Users/juan.vergara/OneDrive - Caren Repuestos Flotacentro/Documentos/Análisis/Segmentación Clientes/Segmentación de Clientes para Modelo/'"
   ]
  },
  {
   "cell_type": "code",
   "execution_count": 3,
   "id": "96e22784",
   "metadata": {},
   "outputs": [
    {
     "name": "stderr",
     "output_type": "stream",
     "text": [
      "C:\\ProgramData\\Anaconda3\\lib\\site-packages\\IPython\\core\\interactiveshell.py:3165: DtypeWarning: Columns (33) have mixed types.Specify dtype option on import or set low_memory=False.\n",
      "  has_raised = await self.run_ast_nodes(code_ast.body, cell_name,\n"
     ]
    }
   ],
   "source": [
    "df = pd.read_csv(path+'Tamaño_Flota_Venta.csv')"
   ]
  },
  {
   "cell_type": "code",
   "execution_count": 4,
   "id": "6877f8c9",
   "metadata": {},
   "outputs": [
    {
     "data": {
      "text/html": [
       "<div>\n",
       "<style scoped>\n",
       "    .dataframe tbody tr th:only-of-type {\n",
       "        vertical-align: middle;\n",
       "    }\n",
       "\n",
       "    .dataframe tbody tr th {\n",
       "        vertical-align: top;\n",
       "    }\n",
       "\n",
       "    .dataframe thead th {\n",
       "        text-align: right;\n",
       "    }\n",
       "</style>\n",
       "<table border=\"1\" class=\"dataframe\">\n",
       "  <thead>\n",
       "    <tr style=\"text-align: right;\">\n",
       "      <th></th>\n",
       "      <th>RUT_Final</th>\n",
       "      <th>CT_Lub_Liviano</th>\n",
       "      <th>CT_Lub_Pesado</th>\n",
       "      <th>CT_Neu_Liviano</th>\n",
       "      <th>CT_Neu_Pesado</th>\n",
       "      <th>CT_Rep_Liviano</th>\n",
       "      <th>CT_Rep_Pesado</th>\n",
       "      <th>Flota_Liviano</th>\n",
       "      <th>Flota_Pesado</th>\n",
       "      <th>CT_Total</th>\n",
       "      <th>...</th>\n",
       "      <th>$ Venta del Potencial</th>\n",
       "      <th>% Venta del Potencial</th>\n",
       "      <th>Tamaño Flota</th>\n",
       "      <th>Clasificacion Tamaño Flota</th>\n",
       "      <th>Tamaño Flota Pesado</th>\n",
       "      <th>Clasificacion Tamaño Flota Pesado</th>\n",
       "      <th>Tamaño Flota Liviano</th>\n",
       "      <th>Clasificacion Tamaño Flota Liviano</th>\n",
       "      <th>Categoria Mix Flota</th>\n",
       "      <th>Categoria Venta del Potencial</th>\n",
       "    </tr>\n",
       "  </thead>\n",
       "  <tbody>\n",
       "    <tr>\n",
       "      <th>0</th>\n",
       "      <td>235</td>\n",
       "      <td>0</td>\n",
       "      <td>0</td>\n",
       "      <td>37500</td>\n",
       "      <td>0</td>\n",
       "      <td>0</td>\n",
       "      <td>0</td>\n",
       "      <td>1</td>\n",
       "      <td>0</td>\n",
       "      <td>37500</td>\n",
       "      <td>...</td>\n",
       "      <td>37500</td>\n",
       "      <td>0.0</td>\n",
       "      <td>2. [1, 10)</td>\n",
       "      <td>2. Micro</td>\n",
       "      <td>1. 0</td>\n",
       "      <td>1. Sin Flota</td>\n",
       "      <td>2. [1, 10)</td>\n",
       "      <td>2. Micro</td>\n",
       "      <td>Liviano</td>\n",
       "      <td>1. (-, 5%)</td>\n",
       "    </tr>\n",
       "    <tr>\n",
       "      <th>1</th>\n",
       "      <td>884</td>\n",
       "      <td>0</td>\n",
       "      <td>0</td>\n",
       "      <td>37500</td>\n",
       "      <td>0</td>\n",
       "      <td>0</td>\n",
       "      <td>0</td>\n",
       "      <td>1</td>\n",
       "      <td>0</td>\n",
       "      <td>37500</td>\n",
       "      <td>...</td>\n",
       "      <td>37500</td>\n",
       "      <td>0.0</td>\n",
       "      <td>2. [1, 10)</td>\n",
       "      <td>2. Micro</td>\n",
       "      <td>1. 0</td>\n",
       "      <td>1. Sin Flota</td>\n",
       "      <td>2. [1, 10)</td>\n",
       "      <td>2. Micro</td>\n",
       "      <td>Liviano</td>\n",
       "      <td>1. (-, 5%)</td>\n",
       "    </tr>\n",
       "    <tr>\n",
       "      <th>2</th>\n",
       "      <td>957</td>\n",
       "      <td>0</td>\n",
       "      <td>0</td>\n",
       "      <td>75000</td>\n",
       "      <td>0</td>\n",
       "      <td>0</td>\n",
       "      <td>0</td>\n",
       "      <td>2</td>\n",
       "      <td>0</td>\n",
       "      <td>75000</td>\n",
       "      <td>...</td>\n",
       "      <td>75000</td>\n",
       "      <td>0.0</td>\n",
       "      <td>2. [1, 10)</td>\n",
       "      <td>2. Micro</td>\n",
       "      <td>1. 0</td>\n",
       "      <td>1. Sin Flota</td>\n",
       "      <td>2. [1, 10)</td>\n",
       "      <td>2. Micro</td>\n",
       "      <td>Liviano</td>\n",
       "      <td>1. (-, 5%)</td>\n",
       "    </tr>\n",
       "    <tr>\n",
       "      <th>3</th>\n",
       "      <td>12380</td>\n",
       "      <td>0</td>\n",
       "      <td>0</td>\n",
       "      <td>37500</td>\n",
       "      <td>0</td>\n",
       "      <td>0</td>\n",
       "      <td>0</td>\n",
       "      <td>1</td>\n",
       "      <td>0</td>\n",
       "      <td>37500</td>\n",
       "      <td>...</td>\n",
       "      <td>37500</td>\n",
       "      <td>0.0</td>\n",
       "      <td>2. [1, 10)</td>\n",
       "      <td>2. Micro</td>\n",
       "      <td>1. 0</td>\n",
       "      <td>1. Sin Flota</td>\n",
       "      <td>2. [1, 10)</td>\n",
       "      <td>2. Micro</td>\n",
       "      <td>Liviano</td>\n",
       "      <td>1. (-, 5%)</td>\n",
       "    </tr>\n",
       "    <tr>\n",
       "      <th>4</th>\n",
       "      <td>17114</td>\n",
       "      <td>0</td>\n",
       "      <td>0</td>\n",
       "      <td>0</td>\n",
       "      <td>0</td>\n",
       "      <td>0</td>\n",
       "      <td>0</td>\n",
       "      <td>1</td>\n",
       "      <td>0</td>\n",
       "      <td>0</td>\n",
       "      <td>...</td>\n",
       "      <td>0</td>\n",
       "      <td>NaN</td>\n",
       "      <td>2. [1, 10)</td>\n",
       "      <td>2. Micro</td>\n",
       "      <td>1. 0</td>\n",
       "      <td>1. Sin Flota</td>\n",
       "      <td>2. [1, 10)</td>\n",
       "      <td>2. Micro</td>\n",
       "      <td>Liviano</td>\n",
       "      <td>NaN</td>\n",
       "    </tr>\n",
       "  </tbody>\n",
       "</table>\n",
       "<p>5 rows × 49 columns</p>\n",
       "</div>"
      ],
      "text/plain": [
       "   RUT_Final  CT_Lub_Liviano  CT_Lub_Pesado  CT_Neu_Liviano  CT_Neu_Pesado  \\\n",
       "0        235               0              0           37500              0   \n",
       "1        884               0              0           37500              0   \n",
       "2        957               0              0           75000              0   \n",
       "3      12380               0              0           37500              0   \n",
       "4      17114               0              0               0              0   \n",
       "\n",
       "   CT_Rep_Liviano  CT_Rep_Pesado  Flota_Liviano  Flota_Pesado  CT_Total  ...  \\\n",
       "0               0              0              1             0     37500  ...   \n",
       "1               0              0              1             0     37500  ...   \n",
       "2               0              0              2             0     75000  ...   \n",
       "3               0              0              1             0     37500  ...   \n",
       "4               0              0              1             0         0  ...   \n",
       "\n",
       "   $ Venta del Potencial  % Venta del Potencial  Tamaño Flota  \\\n",
       "0                  37500                    0.0    2. [1, 10)   \n",
       "1                  37500                    0.0    2. [1, 10)   \n",
       "2                  75000                    0.0    2. [1, 10)   \n",
       "3                  37500                    0.0    2. [1, 10)   \n",
       "4                      0                    NaN    2. [1, 10)   \n",
       "\n",
       "   Clasificacion Tamaño Flota  Tamaño Flota Pesado  \\\n",
       "0                    2. Micro                 1. 0   \n",
       "1                    2. Micro                 1. 0   \n",
       "2                    2. Micro                 1. 0   \n",
       "3                    2. Micro                 1. 0   \n",
       "4                    2. Micro                 1. 0   \n",
       "\n",
       "   Clasificacion Tamaño Flota Pesado  Tamaño Flota Liviano  \\\n",
       "0                       1. Sin Flota            2. [1, 10)   \n",
       "1                       1. Sin Flota            2. [1, 10)   \n",
       "2                       1. Sin Flota            2. [1, 10)   \n",
       "3                       1. Sin Flota            2. [1, 10)   \n",
       "4                       1. Sin Flota            2. [1, 10)   \n",
       "\n",
       "   Clasificacion Tamaño Flota Liviano  Categoria Mix Flota  \\\n",
       "0                            2. Micro              Liviano   \n",
       "1                            2. Micro              Liviano   \n",
       "2                            2. Micro              Liviano   \n",
       "3                            2. Micro              Liviano   \n",
       "4                            2. Micro              Liviano   \n",
       "\n",
       "   Categoria Venta del Potencial  \n",
       "0                     1. (-, 5%)  \n",
       "1                     1. (-, 5%)  \n",
       "2                     1. (-, 5%)  \n",
       "3                     1. (-, 5%)  \n",
       "4                            NaN  \n",
       "\n",
       "[5 rows x 49 columns]"
      ]
     },
     "execution_count": 4,
     "metadata": {},
     "output_type": "execute_result"
    }
   ],
   "source": [
    "df.head()"
   ]
  },
  {
   "cell_type": "code",
   "execution_count": 5,
   "id": "4e7a7732",
   "metadata": {},
   "outputs": [
    {
     "data": {
      "text/plain": [
       "Index(['RUT_Final', 'CT_Lub_Liviano', 'CT_Lub_Pesado', 'CT_Neu_Liviano',\n",
       "       'CT_Neu_Pesado', 'CT_Rep_Liviano', 'CT_Rep_Pesado', 'Flota_Liviano',\n",
       "       'Flota_Pesado', 'CT_Total', 'CT_Total_Liv', 'CT_Total_Pes',\n",
       "       'Flota_Total', 'Q Camion', 'Q Camion Liv', 'Q Remolque',\n",
       "       'Q Semi Remolque', 'Q Tractocamion', 'Q Bus', 'Q Loc Colectiva',\n",
       "       'Q Mini Bus', 'Q Furgon', 'Q Automovil', 'Q Camioneta', 'Q Flota Carga',\n",
       "       'Q Flota T de Pasajeros', 'Q Flota Particular', '% Flota Carga',\n",
       "       '% Flota T de Pasajeros', '% Flota Particular', 'Venta_36_meses',\n",
       "       'Venta_24_meses', 'Venta_12_meses', 'Estado Cliente',\n",
       "       'Indicador Cliente', 'Nombre_Empresa', 'Rubros', 'Sub Rubros',\n",
       "       'Actividad', '$ Venta del Potencial', '% Venta del Potencial',\n",
       "       'Tamaño Flota', 'Clasificacion Tamaño Flota', 'Tamaño Flota Pesado',\n",
       "       'Clasificacion Tamaño Flota Pesado', 'Tamaño Flota Liviano',\n",
       "       'Clasificacion Tamaño Flota Liviano', 'Categoria Mix Flota',\n",
       "       'Categoria Venta del Potencial'],\n",
       "      dtype='object')"
      ]
     },
     "execution_count": 5,
     "metadata": {},
     "output_type": "execute_result"
    }
   ],
   "source": [
    "df.columns"
   ]
  },
  {
   "cell_type": "code",
   "execution_count": 6,
   "id": "1e82c4be",
   "metadata": {},
   "outputs": [],
   "source": [
    "df_2 = df[['RUT_Final','Actividad']]"
   ]
  },
  {
   "cell_type": "code",
   "execution_count": 13,
   "id": "672c1e04",
   "metadata": {},
   "outputs": [
    {
     "data": {
      "text/plain": [
       "array(['RETAIL', 'TRANSPORTE DE PASAJEROS', 'COMERCIO',\n",
       "       'TRANSPORTE DE CARGA', 'TALLERES/ARMADORES/REPUESTEROS',\n",
       "       'INDUSTRIAL', 'SERVICIOS', 'MERCADO PÚBLICO', 'FAENAS/EXTRACCIÓN',\n",
       "       'RENT A CAR', 'LEASING FINANCIERO', 'TRANSANTIAGO',\n",
       "       'Sin Rubro SII'], dtype=object)"
      ]
     },
     "execution_count": 13,
     "metadata": {},
     "output_type": "execute_result"
    }
   ],
   "source": [
    "df_2['Actividad'].unique()"
   ]
  },
  {
   "cell_type": "code",
   "execution_count": 14,
   "id": "99217bcf",
   "metadata": {},
   "outputs": [],
   "source": [
    "df_3 = df_2.loc[df['Actividad'].isin(['RETAIL', 'TRANSPORTE DE PASAJEROS', 'COMERCIO',\n",
    "       'TRANSPORTE DE CARGA', 'TALLERES/ARMADORES/REPUESTEROS',\n",
    "       'INDUSTRIAL', 'SERVICIOS', 'MERCADO PÚBLICO', 'FAENAS/EXTRACCIÓN',\n",
    "       'RENT A CAR', 'LEASING FINANCIERO', 'TRANSANTIAGO'])]"
   ]
  },
  {
   "cell_type": "code",
   "execution_count": 16,
   "id": "8099ac2c",
   "metadata": {},
   "outputs": [
    {
     "data": {
      "text/plain": [
       "(3858303, 2)"
      ]
     },
     "execution_count": 16,
     "metadata": {},
     "output_type": "execute_result"
    }
   ],
   "source": [
    "df_3.shape"
   ]
  },
  {
   "cell_type": "code",
   "execution_count": 15,
   "id": "042ed071",
   "metadata": {},
   "outputs": [
    {
     "data": {
      "text/html": [
       "<div>\n",
       "<style scoped>\n",
       "    .dataframe tbody tr th:only-of-type {\n",
       "        vertical-align: middle;\n",
       "    }\n",
       "\n",
       "    .dataframe tbody tr th {\n",
       "        vertical-align: top;\n",
       "    }\n",
       "\n",
       "    .dataframe thead th {\n",
       "        text-align: right;\n",
       "    }\n",
       "</style>\n",
       "<table border=\"1\" class=\"dataframe\">\n",
       "  <thead>\n",
       "    <tr style=\"text-align: right;\">\n",
       "      <th></th>\n",
       "      <th>RUT_Final</th>\n",
       "      <th>Actividad</th>\n",
       "    </tr>\n",
       "  </thead>\n",
       "  <tbody>\n",
       "    <tr>\n",
       "      <th>0</th>\n",
       "      <td>235</td>\n",
       "      <td>RETAIL</td>\n",
       "    </tr>\n",
       "    <tr>\n",
       "      <th>1</th>\n",
       "      <td>884</td>\n",
       "      <td>RETAIL</td>\n",
       "    </tr>\n",
       "    <tr>\n",
       "      <th>2</th>\n",
       "      <td>957</td>\n",
       "      <td>RETAIL</td>\n",
       "    </tr>\n",
       "    <tr>\n",
       "      <th>3</th>\n",
       "      <td>12380</td>\n",
       "      <td>RETAIL</td>\n",
       "    </tr>\n",
       "    <tr>\n",
       "      <th>4</th>\n",
       "      <td>17114</td>\n",
       "      <td>RETAIL</td>\n",
       "    </tr>\n",
       "  </tbody>\n",
       "</table>\n",
       "</div>"
      ],
      "text/plain": [
       "   RUT_Final Actividad\n",
       "0        235    RETAIL\n",
       "1        884    RETAIL\n",
       "2        957    RETAIL\n",
       "3      12380    RETAIL\n",
       "4      17114    RETAIL"
      ]
     },
     "execution_count": 15,
     "metadata": {},
     "output_type": "execute_result"
    }
   ],
   "source": [
    "df_3.head()"
   ]
  },
  {
   "cell_type": "code",
   "execution_count": 17,
   "id": "7ef5862b",
   "metadata": {},
   "outputs": [],
   "source": [
    "rfm_path = 'C:/Users/juan.vergara/OneDrive - Caren Repuestos Flotacentro/Documentos/Análisis/Segmentación Clientes/RFM-2022/'\n",
    "\n",
    "df_rfm = pd.read_csv(rfm_path + 'RFM_Analisis.csv')"
   ]
  },
  {
   "cell_type": "code",
   "execution_count": 19,
   "id": "8f0e1f55",
   "metadata": {},
   "outputs": [],
   "source": [
    "df_rfm = df_rfm[['RUT_Final']]"
   ]
  },
  {
   "cell_type": "code",
   "execution_count": 20,
   "id": "f45cc9ee",
   "metadata": {},
   "outputs": [],
   "source": [
    "df_f = pd.merge(df_rfm, df_3, on = 'RUT_Final', how = 'left')"
   ]
  },
  {
   "cell_type": "code",
   "execution_count": 21,
   "id": "6c4b8b29",
   "metadata": {},
   "outputs": [
    {
     "data": {
      "text/html": [
       "<div>\n",
       "<style scoped>\n",
       "    .dataframe tbody tr th:only-of-type {\n",
       "        vertical-align: middle;\n",
       "    }\n",
       "\n",
       "    .dataframe tbody tr th {\n",
       "        vertical-align: top;\n",
       "    }\n",
       "\n",
       "    .dataframe thead th {\n",
       "        text-align: right;\n",
       "    }\n",
       "</style>\n",
       "<table border=\"1\" class=\"dataframe\">\n",
       "  <thead>\n",
       "    <tr style=\"text-align: right;\">\n",
       "      <th></th>\n",
       "      <th>RUT_Final</th>\n",
       "      <th>Actividad</th>\n",
       "    </tr>\n",
       "  </thead>\n",
       "  <tbody>\n",
       "    <tr>\n",
       "      <th>0</th>\n",
       "      <td>14436940</td>\n",
       "      <td>RETAIL</td>\n",
       "    </tr>\n",
       "    <tr>\n",
       "      <th>1</th>\n",
       "      <td>16293900</td>\n",
       "      <td>RETAIL</td>\n",
       "    </tr>\n",
       "    <tr>\n",
       "      <th>2</th>\n",
       "      <td>15298509</td>\n",
       "      <td>NaN</td>\n",
       "    </tr>\n",
       "    <tr>\n",
       "      <th>3</th>\n",
       "      <td>76417435</td>\n",
       "      <td>TRANSPORTE DE CARGA</td>\n",
       "    </tr>\n",
       "    <tr>\n",
       "      <th>4</th>\n",
       "      <td>9074531</td>\n",
       "      <td>RETAIL</td>\n",
       "    </tr>\n",
       "  </tbody>\n",
       "</table>\n",
       "</div>"
      ],
      "text/plain": [
       "   RUT_Final            Actividad\n",
       "0   14436940               RETAIL\n",
       "1   16293900               RETAIL\n",
       "2   15298509                  NaN\n",
       "3   76417435  TRANSPORTE DE CARGA\n",
       "4    9074531               RETAIL"
      ]
     },
     "execution_count": 21,
     "metadata": {},
     "output_type": "execute_result"
    }
   ],
   "source": [
    "df_f.head()"
   ]
  },
  {
   "cell_type": "code",
   "execution_count": 23,
   "id": "dc832a29",
   "metadata": {},
   "outputs": [
    {
     "data": {
      "text/plain": [
       "(88620, 2)"
      ]
     },
     "execution_count": 23,
     "metadata": {},
     "output_type": "execute_result"
    }
   ],
   "source": [
    "df_f.shape"
   ]
  },
  {
   "cell_type": "code",
   "execution_count": 24,
   "id": "edae7460",
   "metadata": {},
   "outputs": [],
   "source": [
    "df_f.to_csv(rfm_path + 'rfm_rubro.csv')"
   ]
  },
  {
   "cell_type": "code",
   "execution_count": null,
   "id": "868cb8df",
   "metadata": {},
   "outputs": [],
   "source": []
  }
 ],
 "metadata": {
  "kernelspec": {
   "display_name": "Python 3",
   "language": "python",
   "name": "python3"
  },
  "language_info": {
   "codemirror_mode": {
    "name": "ipython",
    "version": 3
   },
   "file_extension": ".py",
   "mimetype": "text/x-python",
   "name": "python",
   "nbconvert_exporter": "python",
   "pygments_lexer": "ipython3",
   "version": "3.8.8"
  }
 },
 "nbformat": 4,
 "nbformat_minor": 5
}
