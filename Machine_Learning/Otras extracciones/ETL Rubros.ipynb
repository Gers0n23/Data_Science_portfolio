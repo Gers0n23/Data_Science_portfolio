{
 "cells": [
  {
   "cell_type": "markdown",
   "id": "3bc1de2f",
   "metadata": {},
   "source": [
    "### ETL para Exploración"
   ]
  },
  {
   "cell_type": "code",
   "execution_count": 2,
   "id": "0082bcf5",
   "metadata": {},
   "outputs": [],
   "source": [
    "import pandas as pd\n",
    "import numpy as np"
   ]
  },
  {
   "cell_type": "markdown",
   "id": "48fcb51f",
   "metadata": {},
   "source": [
    "### Rubros"
   ]
  },
  {
   "cell_type": "code",
   "execution_count": 9,
   "id": "a2f846d6",
   "metadata": {},
   "outputs": [],
   "source": [
    "# Dirección archivo\n",
    "URL = 'C:/Users/juan.vergara/OneDrive - Caren Repuestos Flotacentro/Documentos/Análisis/Segmentación Clientes/Fase 3 Recopilación de Datos/Extracción de Datos/'"
   ]
  },
  {
   "cell_type": "code",
   "execution_count": 10,
   "id": "8a19bb9e",
   "metadata": {},
   "outputs": [
    {
     "name": "stderr",
     "output_type": "stream",
     "text": [
      "C:\\ProgramData\\Anaconda3\\lib\\site-packages\\IPython\\core\\interactiveshell.py:3165: DtypeWarning: Columns (8,10,15,30,31,33,43,44,45) have mixed types.Specify dtype option on import or set low_memory=False.\n",
      "  has_raised = await self.run_ast_nodes(code_ast.body, cell_name,\n",
      "C:\\ProgramData\\Anaconda3\\lib\\site-packages\\IPython\\core\\interactiveshell.py:3165: DtypeWarning: Columns (8,10,15,30,31,32,33,38,43,44,45) have mixed types.Specify dtype option on import or set low_memory=False.\n",
      "  has_raised = await self.run_ast_nodes(code_ast.body, cell_name,\n"
     ]
    }
   ],
   "source": [
    "# Carga de archivo eliminando la fila 0 (viene nulla)\n",
    "df_2021 = pd.read_table(URL+'2021.txt', sep = ';', ).drop(0)\n",
    "df_2020 = pd.read_table(URL+'2020.txt', sep = ';', ).drop(0)\n",
    "df_2019 = pd.read_table(URL+'2019.txt', sep = ';', ).drop(0)\n",
    "\n",
    "frames = [df_2021, df_2020, df_2019]\n",
    "\n",
    "df = pd.concat(frames)\n",
    "\n",
    "# Limpiando los datos '-' del campo fecha\n",
    "df = df[df.Fecha != '-']"
   ]
  },
  {
   "cell_type": "code",
   "execution_count": 11,
   "id": "b2c10df7",
   "metadata": {},
   "outputs": [
    {
     "data": {
      "text/plain": [
       "Index(['Año', 'Mes', 'Fecha', 'Zona', 'CeCo', 'Sucursal', 'Vendedor',\n",
       "       'Tipo Vendedor', 'N° Folio', 'TipoDocto', 'NotaVenta',\n",
       "       'Segmento Cliente', 'Subsegmento', 'Rubro', 'RUT', 'NroCliente',\n",
       "       'Cliente', 'Linea', 'Encargado', 'LineaN1', 'LineaN2', 'LineaN3',\n",
       "       'LineaN4', 'ABCDZ', 'Marca', 'Grupo', 'Subgrupo', 'CodCaren',\n",
       "       'Producto', 'Obsoleto', 'CodCondPago', 'Q', '$ Precio', '$ Costo',\n",
       "       '$ Venta', '$ Margen', '% Margen', '% Dscto', '$ Descuento',\n",
       "       '# Clientes', '# Ticket', '# SKU', '$ Ticket Prom.', '$ Venta Meta',\n",
       "       '$ Margen Meta', 'Q UM'],\n",
       "      dtype='object')"
      ]
     },
     "execution_count": 11,
     "metadata": {},
     "output_type": "execute_result"
    }
   ],
   "source": [
    "df.columns"
   ]
  },
  {
   "cell_type": "code",
   "execution_count": 12,
   "id": "e86c7da4",
   "metadata": {},
   "outputs": [
    {
     "data": {
      "text/html": [
       "<div>\n",
       "<style scoped>\n",
       "    .dataframe tbody tr th:only-of-type {\n",
       "        vertical-align: middle;\n",
       "    }\n",
       "\n",
       "    .dataframe tbody tr th {\n",
       "        vertical-align: top;\n",
       "    }\n",
       "\n",
       "    .dataframe thead th {\n",
       "        text-align: right;\n",
       "    }\n",
       "</style>\n",
       "<table border=\"1\" class=\"dataframe\">\n",
       "  <thead>\n",
       "    <tr style=\"text-align: right;\">\n",
       "      <th></th>\n",
       "      <th>Año</th>\n",
       "      <th>Mes</th>\n",
       "      <th>Fecha</th>\n",
       "      <th>Zona</th>\n",
       "      <th>CeCo</th>\n",
       "      <th>Sucursal</th>\n",
       "      <th>Vendedor</th>\n",
       "      <th>Tipo Vendedor</th>\n",
       "      <th>N° Folio</th>\n",
       "      <th>TipoDocto</th>\n",
       "      <th>...</th>\n",
       "      <th>% Margen</th>\n",
       "      <th>% Dscto</th>\n",
       "      <th>$ Descuento</th>\n",
       "      <th># Clientes</th>\n",
       "      <th># Ticket</th>\n",
       "      <th># SKU</th>\n",
       "      <th>$ Ticket Prom.</th>\n",
       "      <th>$ Venta Meta</th>\n",
       "      <th>$ Margen Meta</th>\n",
       "      <th>Q UM</th>\n",
       "    </tr>\n",
       "  </thead>\n",
       "  <tbody>\n",
       "    <tr>\n",
       "      <th>1</th>\n",
       "      <td>2021.0</td>\n",
       "      <td>1.0</td>\n",
       "      <td>02-01-2021</td>\n",
       "      <td>Zona Austral</td>\n",
       "      <td>13.0</td>\n",
       "      <td>Puerto Montt</td>\n",
       "      <td>M7-Aguila Luis</td>\n",
       "      <td>Mesón</td>\n",
       "      <td>2354658.0</td>\n",
       "      <td>FV</td>\n",
       "      <td>...</td>\n",
       "      <td>56%</td>\n",
       "      <td>0%</td>\n",
       "      <td>0</td>\n",
       "      <td>1.0</td>\n",
       "      <td>1.0</td>\n",
       "      <td>1.0</td>\n",
       "      <td>$ 6.336</td>\n",
       "      <td>0</td>\n",
       "      <td>0</td>\n",
       "      <td>1</td>\n",
       "    </tr>\n",
       "    <tr>\n",
       "      <th>2</th>\n",
       "      <td>2021.0</td>\n",
       "      <td>1.0</td>\n",
       "      <td>02-01-2021</td>\n",
       "      <td>Zona Austral</td>\n",
       "      <td>13.0</td>\n",
       "      <td>Puerto Montt</td>\n",
       "      <td>M7-Aguila Luis</td>\n",
       "      <td>Mesón</td>\n",
       "      <td>2354658.0</td>\n",
       "      <td>FV</td>\n",
       "      <td>...</td>\n",
       "      <td>28%</td>\n",
       "      <td>0%</td>\n",
       "      <td>0</td>\n",
       "      <td>1.0</td>\n",
       "      <td>1.0</td>\n",
       "      <td>1.0</td>\n",
       "      <td>$ 73.932</td>\n",
       "      <td>0</td>\n",
       "      <td>0</td>\n",
       "      <td>38</td>\n",
       "    </tr>\n",
       "    <tr>\n",
       "      <th>3</th>\n",
       "      <td>2021.0</td>\n",
       "      <td>1.0</td>\n",
       "      <td>02-01-2021</td>\n",
       "      <td>Zona Austral</td>\n",
       "      <td>13.0</td>\n",
       "      <td>Puerto Montt</td>\n",
       "      <td>M7-Aguila Luis</td>\n",
       "      <td>Mesón</td>\n",
       "      <td>2354684.0</td>\n",
       "      <td>FV</td>\n",
       "      <td>...</td>\n",
       "      <td>53%</td>\n",
       "      <td>0%</td>\n",
       "      <td>0</td>\n",
       "      <td>1.0</td>\n",
       "      <td>1.0</td>\n",
       "      <td>1.0</td>\n",
       "      <td>$ 8.160</td>\n",
       "      <td>0</td>\n",
       "      <td>0</td>\n",
       "      <td>1</td>\n",
       "    </tr>\n",
       "    <tr>\n",
       "      <th>4</th>\n",
       "      <td>2021.0</td>\n",
       "      <td>1.0</td>\n",
       "      <td>02-01-2021</td>\n",
       "      <td>Zona Austral</td>\n",
       "      <td>13.0</td>\n",
       "      <td>Puerto Montt</td>\n",
       "      <td>M7-Aguila Luis</td>\n",
       "      <td>Mesón</td>\n",
       "      <td>2354712.0</td>\n",
       "      <td>FV</td>\n",
       "      <td>...</td>\n",
       "      <td>34%</td>\n",
       "      <td>15%</td>\n",
       "      <td>17.142</td>\n",
       "      <td>1.0</td>\n",
       "      <td>1.0</td>\n",
       "      <td>1.0</td>\n",
       "      <td>$ 97.135</td>\n",
       "      <td>0</td>\n",
       "      <td>0</td>\n",
       "      <td>1</td>\n",
       "    </tr>\n",
       "    <tr>\n",
       "      <th>5</th>\n",
       "      <td>2021.0</td>\n",
       "      <td>1.0</td>\n",
       "      <td>02-01-2021</td>\n",
       "      <td>Zona Austral</td>\n",
       "      <td>14.0</td>\n",
       "      <td>Osorno FC</td>\n",
       "      <td>67-Alvaro Cárdenas</td>\n",
       "      <td>Terreno</td>\n",
       "      <td>2354623.0</td>\n",
       "      <td>FV</td>\n",
       "      <td>...</td>\n",
       "      <td>100%</td>\n",
       "      <td>0%</td>\n",
       "      <td>0</td>\n",
       "      <td>1.0</td>\n",
       "      <td>1.0</td>\n",
       "      <td>1.0</td>\n",
       "      <td>$ 7.143</td>\n",
       "      <td>0</td>\n",
       "      <td>0</td>\n",
       "      <td>1</td>\n",
       "    </tr>\n",
       "  </tbody>\n",
       "</table>\n",
       "<p>5 rows × 46 columns</p>\n",
       "</div>"
      ],
      "text/plain": [
       "      Año  Mes       Fecha          Zona  CeCo      Sucursal  \\\n",
       "1  2021.0  1.0  02-01-2021  Zona Austral  13.0  Puerto Montt   \n",
       "2  2021.0  1.0  02-01-2021  Zona Austral  13.0  Puerto Montt   \n",
       "3  2021.0  1.0  02-01-2021  Zona Austral  13.0  Puerto Montt   \n",
       "4  2021.0  1.0  02-01-2021  Zona Austral  13.0  Puerto Montt   \n",
       "5  2021.0  1.0  02-01-2021  Zona Austral  14.0     Osorno FC   \n",
       "\n",
       "             Vendedor Tipo Vendedor   N° Folio TipoDocto  ... % Margen  \\\n",
       "1      M7-Aguila Luis         Mesón  2354658.0        FV  ...      56%   \n",
       "2      M7-Aguila Luis         Mesón  2354658.0        FV  ...      28%   \n",
       "3      M7-Aguila Luis         Mesón  2354684.0        FV  ...      53%   \n",
       "4      M7-Aguila Luis         Mesón  2354712.0        FV  ...      34%   \n",
       "5  67-Alvaro Cárdenas       Terreno  2354623.0        FV  ...     100%   \n",
       "\n",
       "  % Dscto $ Descuento # Clientes # Ticket # SKU $ Ticket Prom. $ Venta Meta  \\\n",
       "1      0%           0        1.0      1.0   1.0        $ 6.336            0   \n",
       "2      0%           0        1.0      1.0   1.0       $ 73.932            0   \n",
       "3      0%           0        1.0      1.0   1.0        $ 8.160            0   \n",
       "4     15%      17.142        1.0      1.0   1.0       $ 97.135            0   \n",
       "5      0%           0        1.0      1.0   1.0        $ 7.143            0   \n",
       "\n",
       "  $ Margen Meta Q UM  \n",
       "1             0    1  \n",
       "2             0   38  \n",
       "3             0    1  \n",
       "4             0    1  \n",
       "5             0    1  \n",
       "\n",
       "[5 rows x 46 columns]"
      ]
     },
     "execution_count": 12,
     "metadata": {},
     "output_type": "execute_result"
    }
   ],
   "source": [
    "df.head(5)"
   ]
  },
  {
   "cell_type": "code",
   "execution_count": 13,
   "id": "2ef63793",
   "metadata": {},
   "outputs": [],
   "source": [
    "# Nos quedamos con los campos relevantes\n",
    "df = df[['RUT','Rubro']]"
   ]
  },
  {
   "cell_type": "code",
   "execution_count": 14,
   "id": "b0e2e6c1",
   "metadata": {},
   "outputs": [],
   "source": [
    "df = df.drop_duplicates()"
   ]
  },
  {
   "cell_type": "code",
   "execution_count": 15,
   "id": "c07ae573",
   "metadata": {},
   "outputs": [
    {
     "data": {
      "text/plain": [
       "RUT      object\n",
       "Rubro    object\n",
       "dtype: object"
      ]
     },
     "execution_count": 15,
     "metadata": {},
     "output_type": "execute_result"
    }
   ],
   "source": [
    "df.dtypes"
   ]
  },
  {
   "cell_type": "code",
   "execution_count": 16,
   "id": "2fe01385",
   "metadata": {},
   "outputs": [
    {
     "data": {
      "text/plain": [
       "RUT      84328\n",
       "Rubro    84328\n",
       "dtype: int64"
      ]
     },
     "execution_count": 16,
     "metadata": {},
     "output_type": "execute_result"
    }
   ],
   "source": [
    "df.count()"
   ]
  },
  {
   "cell_type": "code",
   "execution_count": 17,
   "id": "bda8d1f3",
   "metadata": {},
   "outputs": [
    {
     "data": {
      "text/html": [
       "<div>\n",
       "<style scoped>\n",
       "    .dataframe tbody tr th:only-of-type {\n",
       "        vertical-align: middle;\n",
       "    }\n",
       "\n",
       "    .dataframe tbody tr th {\n",
       "        vertical-align: top;\n",
       "    }\n",
       "\n",
       "    .dataframe thead th {\n",
       "        text-align: right;\n",
       "    }\n",
       "</style>\n",
       "<table border=\"1\" class=\"dataframe\">\n",
       "  <thead>\n",
       "    <tr style=\"text-align: right;\">\n",
       "      <th></th>\n",
       "      <th>RUT</th>\n",
       "      <th>Rubro</th>\n",
       "      <th>Rut</th>\n",
       "    </tr>\n",
       "  </thead>\n",
       "  <tbody>\n",
       "    <tr>\n",
       "      <th>1</th>\n",
       "      <td>76297447-9</td>\n",
       "      <td>Transporte De Pasajeros</td>\n",
       "      <td>76297447</td>\n",
       "    </tr>\n",
       "    <tr>\n",
       "      <th>3</th>\n",
       "      <td>76884768-1</td>\n",
       "      <td>Transporte De Carga</td>\n",
       "      <td>76884768</td>\n",
       "    </tr>\n",
       "    <tr>\n",
       "      <th>4</th>\n",
       "      <td>77276874-5</td>\n",
       "      <td>Sin Información</td>\n",
       "      <td>77276874</td>\n",
       "    </tr>\n",
       "    <tr>\n",
       "      <th>5</th>\n",
       "      <td>76718833-1</td>\n",
       "      <td>Transporte De Carga</td>\n",
       "      <td>76718833</td>\n",
       "    </tr>\n",
       "    <tr>\n",
       "      <th>7</th>\n",
       "      <td>76518049-K</td>\n",
       "      <td>Transporte De Carga</td>\n",
       "      <td>76518049</td>\n",
       "    </tr>\n",
       "  </tbody>\n",
       "</table>\n",
       "</div>"
      ],
      "text/plain": [
       "          RUT                    Rubro       Rut\n",
       "1  76297447-9  Transporte De Pasajeros  76297447\n",
       "3  76884768-1      Transporte De Carga  76884768\n",
       "4  77276874-5          Sin Información  77276874\n",
       "5  76718833-1      Transporte De Carga  76718833\n",
       "7  76518049-K      Transporte De Carga  76518049"
      ]
     },
     "execution_count": 17,
     "metadata": {},
     "output_type": "execute_result"
    }
   ],
   "source": [
    "df['Rut'] = df['RUT'].str.split('-').str[0]\n",
    "df['Rut'] = df['Rut'].astype('int64')\n",
    "\n",
    "df.head()"
   ]
  },
  {
   "cell_type": "code",
   "execution_count": 18,
   "id": "a2546fff",
   "metadata": {},
   "outputs": [
    {
     "data": {
      "text/html": [
       "<div>\n",
       "<style scoped>\n",
       "    .dataframe tbody tr th:only-of-type {\n",
       "        vertical-align: middle;\n",
       "    }\n",
       "\n",
       "    .dataframe tbody tr th {\n",
       "        vertical-align: top;\n",
       "    }\n",
       "\n",
       "    .dataframe thead th {\n",
       "        text-align: right;\n",
       "    }\n",
       "</style>\n",
       "<table border=\"1\" class=\"dataframe\">\n",
       "  <thead>\n",
       "    <tr style=\"text-align: right;\">\n",
       "      <th></th>\n",
       "      <th>Rut</th>\n",
       "      <th>grupo</th>\n",
       "      <th>Rut_Grupo</th>\n",
       "    </tr>\n",
       "  </thead>\n",
       "  <tbody>\n",
       "    <tr>\n",
       "      <th>0</th>\n",
       "      <td>2275184</td>\n",
       "      <td>Transportes Camus</td>\n",
       "      <td>2275184</td>\n",
       "    </tr>\n",
       "    <tr>\n",
       "      <th>1</th>\n",
       "      <td>53333206</td>\n",
       "      <td>Transportes Camus</td>\n",
       "      <td>2275184</td>\n",
       "    </tr>\n",
       "    <tr>\n",
       "      <th>2</th>\n",
       "      <td>4457615</td>\n",
       "      <td>Meneses Ponce Hermo Efrain</td>\n",
       "      <td>4457615</td>\n",
       "    </tr>\n",
       "    <tr>\n",
       "      <th>3</th>\n",
       "      <td>79617470</td>\n",
       "      <td>Meneses Ponce Hermo Efrain</td>\n",
       "      <td>4457615</td>\n",
       "    </tr>\n",
       "    <tr>\n",
       "      <th>4</th>\n",
       "      <td>4684951</td>\n",
       "      <td>Rojas Pina Cesar Del Carmen</td>\n",
       "      <td>4684951</td>\n",
       "    </tr>\n",
       "  </tbody>\n",
       "</table>\n",
       "</div>"
      ],
      "text/plain": [
       "        Rut                        grupo  Rut_Grupo\n",
       "0   2275184            Transportes Camus    2275184\n",
       "1  53333206            Transportes Camus    2275184\n",
       "2   4457615   Meneses Ponce Hermo Efrain    4457615\n",
       "3  79617470   Meneses Ponce Hermo Efrain    4457615\n",
       "4   4684951  Rojas Pina Cesar Del Carmen    4684951"
      ]
     },
     "execution_count": 18,
     "metadata": {},
     "output_type": "execute_result"
    }
   ],
   "source": [
    "# RUT GRUPOS\n",
    "\n",
    "df_rut = pd.read_excel(URL+'RUT_Grupos.xlsx')\n",
    "df_rut.head()"
   ]
  },
  {
   "cell_type": "code",
   "execution_count": 19,
   "id": "22324ea6",
   "metadata": {},
   "outputs": [
    {
     "data": {
      "text/plain": [
       "Rut           int64\n",
       "grupo        object\n",
       "Rut_Grupo    object\n",
       "dtype: object"
      ]
     },
     "execution_count": 19,
     "metadata": {},
     "output_type": "execute_result"
    }
   ],
   "source": [
    "df_rut['Rut_Grupo'] = df_rut['Rut_Grupo'].astype(object)\n",
    "df_rut.dtypes"
   ]
  },
  {
   "cell_type": "code",
   "execution_count": 20,
   "id": "6e6cdcf1",
   "metadata": {},
   "outputs": [
    {
     "data": {
      "text/html": [
       "<div>\n",
       "<style scoped>\n",
       "    .dataframe tbody tr th:only-of-type {\n",
       "        vertical-align: middle;\n",
       "    }\n",
       "\n",
       "    .dataframe tbody tr th {\n",
       "        vertical-align: top;\n",
       "    }\n",
       "\n",
       "    .dataframe thead th {\n",
       "        text-align: right;\n",
       "    }\n",
       "</style>\n",
       "<table border=\"1\" class=\"dataframe\">\n",
       "  <thead>\n",
       "    <tr style=\"text-align: right;\">\n",
       "      <th></th>\n",
       "      <th>RUT</th>\n",
       "      <th>Rubro</th>\n",
       "      <th>Rut</th>\n",
       "      <th>grupo</th>\n",
       "      <th>Rut_Grupo</th>\n",
       "      <th>RUT_v</th>\n",
       "    </tr>\n",
       "  </thead>\n",
       "  <tbody>\n",
       "    <tr>\n",
       "      <th>0</th>\n",
       "      <td>76297447-9</td>\n",
       "      <td>Transporte De Pasajeros</td>\n",
       "      <td>76297447</td>\n",
       "      <td>NaN</td>\n",
       "      <td>NaN</td>\n",
       "      <td>76297447.0</td>\n",
       "    </tr>\n",
       "    <tr>\n",
       "      <th>1</th>\n",
       "      <td>76884768-1</td>\n",
       "      <td>Transporte De Carga</td>\n",
       "      <td>76884768</td>\n",
       "      <td>NaN</td>\n",
       "      <td>NaN</td>\n",
       "      <td>76884768.0</td>\n",
       "    </tr>\n",
       "    <tr>\n",
       "      <th>2</th>\n",
       "      <td>77276874-5</td>\n",
       "      <td>Sin Información</td>\n",
       "      <td>77276874</td>\n",
       "      <td>NaN</td>\n",
       "      <td>NaN</td>\n",
       "      <td>77276874.0</td>\n",
       "    </tr>\n",
       "    <tr>\n",
       "      <th>3</th>\n",
       "      <td>76718833-1</td>\n",
       "      <td>Transporte De Carga</td>\n",
       "      <td>76718833</td>\n",
       "      <td>NaN</td>\n",
       "      <td>NaN</td>\n",
       "      <td>76718833.0</td>\n",
       "    </tr>\n",
       "    <tr>\n",
       "      <th>4</th>\n",
       "      <td>76518049-K</td>\n",
       "      <td>Transporte De Carga</td>\n",
       "      <td>76518049</td>\n",
       "      <td>NaN</td>\n",
       "      <td>NaN</td>\n",
       "      <td>76518049.0</td>\n",
       "    </tr>\n",
       "  </tbody>\n",
       "</table>\n",
       "</div>"
      ],
      "text/plain": [
       "          RUT                    Rubro       Rut grupo Rut_Grupo       RUT_v\n",
       "0  76297447-9  Transporte De Pasajeros  76297447   NaN       NaN  76297447.0\n",
       "1  76884768-1      Transporte De Carga  76884768   NaN       NaN  76884768.0\n",
       "2  77276874-5          Sin Información  77276874   NaN       NaN  77276874.0\n",
       "3  76718833-1      Transporte De Carga  76718833   NaN       NaN  76718833.0\n",
       "4  76518049-K      Transporte De Carga  76518049   NaN       NaN  76518049.0"
      ]
     },
     "execution_count": 20,
     "metadata": {},
     "output_type": "execute_result"
    }
   ],
   "source": [
    "# Left Join\n",
    "\n",
    "df_fuc = pd.merge(df, df_rut, on ='Rut', how = 'left')\n",
    "\n",
    "# If\n",
    "\n",
    "df_fuc.loc[df_fuc['Rut_Grupo'].isnull(), 'RUT_v'] = df_fuc['Rut']\n",
    "df_fuc.loc[df_fuc['Rut_Grupo'].notnull(), 'RUT_v'] = df_fuc['Rut_Grupo']\n",
    "\n",
    "df_fuc.head()"
   ]
  },
  {
   "cell_type": "code",
   "execution_count": 21,
   "id": "3250c449",
   "metadata": {},
   "outputs": [],
   "source": [
    "df_fuc = df_fuc.drop('RUT',1)\n",
    "df_fuc = df_fuc.drop('Rut',1)\n",
    "df_fuc = df_fuc.drop('grupo',1)\n",
    "df_fuc = df_fuc.drop('Rut_Grupo',1)"
   ]
  },
  {
   "cell_type": "code",
   "execution_count": 22,
   "id": "7eb8f7f1",
   "metadata": {},
   "outputs": [],
   "source": [
    "df_fuc['RUT'] = df_fuc['RUT_v']\n",
    "df_fuc = df_fuc.drop('RUT_v',1)"
   ]
  },
  {
   "cell_type": "code",
   "execution_count": 23,
   "id": "fa14743a",
   "metadata": {},
   "outputs": [
    {
     "data": {
      "text/html": [
       "<div>\n",
       "<style scoped>\n",
       "    .dataframe tbody tr th:only-of-type {\n",
       "        vertical-align: middle;\n",
       "    }\n",
       "\n",
       "    .dataframe tbody tr th {\n",
       "        vertical-align: top;\n",
       "    }\n",
       "\n",
       "    .dataframe thead th {\n",
       "        text-align: right;\n",
       "    }\n",
       "</style>\n",
       "<table border=\"1\" class=\"dataframe\">\n",
       "  <thead>\n",
       "    <tr style=\"text-align: right;\">\n",
       "      <th></th>\n",
       "      <th>Rubro</th>\n",
       "      <th>RUT</th>\n",
       "    </tr>\n",
       "  </thead>\n",
       "  <tbody>\n",
       "    <tr>\n",
       "      <th>0</th>\n",
       "      <td>Transporte De Pasajeros</td>\n",
       "      <td>76297447.0</td>\n",
       "    </tr>\n",
       "    <tr>\n",
       "      <th>1</th>\n",
       "      <td>Transporte De Carga</td>\n",
       "      <td>76884768.0</td>\n",
       "    </tr>\n",
       "    <tr>\n",
       "      <th>2</th>\n",
       "      <td>Sin Información</td>\n",
       "      <td>77276874.0</td>\n",
       "    </tr>\n",
       "    <tr>\n",
       "      <th>3</th>\n",
       "      <td>Transporte De Carga</td>\n",
       "      <td>76718833.0</td>\n",
       "    </tr>\n",
       "    <tr>\n",
       "      <th>4</th>\n",
       "      <td>Transporte De Carga</td>\n",
       "      <td>76518049.0</td>\n",
       "    </tr>\n",
       "  </tbody>\n",
       "</table>\n",
       "</div>"
      ],
      "text/plain": [
       "                     Rubro         RUT\n",
       "0  Transporte De Pasajeros  76297447.0\n",
       "1      Transporte De Carga  76884768.0\n",
       "2          Sin Información  77276874.0\n",
       "3      Transporte De Carga  76718833.0\n",
       "4      Transporte De Carga  76518049.0"
      ]
     },
     "execution_count": 23,
     "metadata": {},
     "output_type": "execute_result"
    }
   ],
   "source": [
    "df_fuc.head()"
   ]
  },
  {
   "cell_type": "code",
   "execution_count": 24,
   "id": "f7453a0a",
   "metadata": {},
   "outputs": [
    {
     "data": {
      "text/html": [
       "<div>\n",
       "<style scoped>\n",
       "    .dataframe tbody tr th:only-of-type {\n",
       "        vertical-align: middle;\n",
       "    }\n",
       "\n",
       "    .dataframe tbody tr th {\n",
       "        vertical-align: top;\n",
       "    }\n",
       "\n",
       "    .dataframe thead th {\n",
       "        text-align: right;\n",
       "    }\n",
       "</style>\n",
       "<table border=\"1\" class=\"dataframe\">\n",
       "  <thead>\n",
       "    <tr style=\"text-align: right;\">\n",
       "      <th></th>\n",
       "      <th>Rubro</th>\n",
       "      <th>RUT</th>\n",
       "    </tr>\n",
       "  </thead>\n",
       "  <tbody>\n",
       "    <tr>\n",
       "      <th>0</th>\n",
       "      <td>Transporte De Pasajeros</td>\n",
       "      <td>76297447.0</td>\n",
       "    </tr>\n",
       "    <tr>\n",
       "      <th>1</th>\n",
       "      <td>Transporte De Carga</td>\n",
       "      <td>76884768.0</td>\n",
       "    </tr>\n",
       "    <tr>\n",
       "      <th>2</th>\n",
       "      <td>Sin Información</td>\n",
       "      <td>77276874.0</td>\n",
       "    </tr>\n",
       "    <tr>\n",
       "      <th>3</th>\n",
       "      <td>Transporte De Carga</td>\n",
       "      <td>76718833.0</td>\n",
       "    </tr>\n",
       "    <tr>\n",
       "      <th>4</th>\n",
       "      <td>Transporte De Carga</td>\n",
       "      <td>76518049.0</td>\n",
       "    </tr>\n",
       "    <tr>\n",
       "      <th>...</th>\n",
       "      <td>...</td>\n",
       "      <td>...</td>\n",
       "    </tr>\n",
       "    <tr>\n",
       "      <th>84323</th>\n",
       "      <td>Transporte De Carga</td>\n",
       "      <td>15951667.0</td>\n",
       "    </tr>\n",
       "    <tr>\n",
       "      <th>84324</th>\n",
       "      <td>Sin Información</td>\n",
       "      <td>11535762.0</td>\n",
       "    </tr>\n",
       "    <tr>\n",
       "      <th>84325</th>\n",
       "      <td>Faenas/Extraccion</td>\n",
       "      <td>76816580.0</td>\n",
       "    </tr>\n",
       "    <tr>\n",
       "      <th>84326</th>\n",
       "      <td>Sin Información</td>\n",
       "      <td>19122736.0</td>\n",
       "    </tr>\n",
       "    <tr>\n",
       "      <th>84327</th>\n",
       "      <td>Sin Información</td>\n",
       "      <td>9290603.0</td>\n",
       "    </tr>\n",
       "  </tbody>\n",
       "</table>\n",
       "<p>84037 rows × 2 columns</p>\n",
       "</div>"
      ],
      "text/plain": [
       "                         Rubro         RUT\n",
       "0      Transporte De Pasajeros  76297447.0\n",
       "1          Transporte De Carga  76884768.0\n",
       "2              Sin Información  77276874.0\n",
       "3          Transporte De Carga  76718833.0\n",
       "4          Transporte De Carga  76518049.0\n",
       "...                        ...         ...\n",
       "84323      Transporte De Carga  15951667.0\n",
       "84324          Sin Información  11535762.0\n",
       "84325        Faenas/Extraccion  76816580.0\n",
       "84326          Sin Información  19122736.0\n",
       "84327          Sin Información   9290603.0\n",
       "\n",
       "[84037 rows x 2 columns]"
      ]
     },
     "execution_count": 24,
     "metadata": {},
     "output_type": "execute_result"
    }
   ],
   "source": [
    "# Borramos las filas duplicadas\n",
    "df_fuc.drop_duplicates(subset=['RUT'])"
   ]
  },
  {
   "cell_type": "code",
   "execution_count": 25,
   "id": "5e57a08d",
   "metadata": {},
   "outputs": [
    {
     "data": {
      "text/html": [
       "<div>\n",
       "<style scoped>\n",
       "    .dataframe tbody tr th:only-of-type {\n",
       "        vertical-align: middle;\n",
       "    }\n",
       "\n",
       "    .dataframe tbody tr th {\n",
       "        vertical-align: top;\n",
       "    }\n",
       "\n",
       "    .dataframe thead th {\n",
       "        text-align: right;\n",
       "    }\n",
       "</style>\n",
       "<table border=\"1\" class=\"dataframe\">\n",
       "  <thead>\n",
       "    <tr style=\"text-align: right;\">\n",
       "      <th></th>\n",
       "      <th>Rubro</th>\n",
       "      <th>RUT</th>\n",
       "    </tr>\n",
       "  </thead>\n",
       "  <tbody>\n",
       "    <tr>\n",
       "      <th>0</th>\n",
       "      <td>Transporte De Pasajeros</td>\n",
       "      <td>76297447.0</td>\n",
       "    </tr>\n",
       "    <tr>\n",
       "      <th>1</th>\n",
       "      <td>Transporte De Carga</td>\n",
       "      <td>76884768.0</td>\n",
       "    </tr>\n",
       "    <tr>\n",
       "      <th>2</th>\n",
       "      <td>Sin Información</td>\n",
       "      <td>77276874.0</td>\n",
       "    </tr>\n",
       "    <tr>\n",
       "      <th>3</th>\n",
       "      <td>Transporte De Carga</td>\n",
       "      <td>76718833.0</td>\n",
       "    </tr>\n",
       "    <tr>\n",
       "      <th>4</th>\n",
       "      <td>Transporte De Carga</td>\n",
       "      <td>76518049.0</td>\n",
       "    </tr>\n",
       "  </tbody>\n",
       "</table>\n",
       "</div>"
      ],
      "text/plain": [
       "                     Rubro         RUT\n",
       "0  Transporte De Pasajeros  76297447.0\n",
       "1      Transporte De Carga  76884768.0\n",
       "2          Sin Información  77276874.0\n",
       "3      Transporte De Carga  76718833.0\n",
       "4      Transporte De Carga  76518049.0"
      ]
     },
     "execution_count": 25,
     "metadata": {},
     "output_type": "execute_result"
    }
   ],
   "source": [
    "df_fuc.head()"
   ]
  },
  {
   "cell_type": "code",
   "execution_count": 26,
   "id": "23b28fa4",
   "metadata": {},
   "outputs": [
    {
     "data": {
      "text/plain": [
       "Rubro    object\n",
       "RUT      object\n",
       "dtype: object"
      ]
     },
     "execution_count": 26,
     "metadata": {},
     "output_type": "execute_result"
    }
   ],
   "source": [
    "df_fuc.dtypes"
   ]
  },
  {
   "cell_type": "code",
   "execution_count": 27,
   "id": "0cc7aa0e",
   "metadata": {},
   "outputs": [
    {
     "data": {
      "text/plain": [
       "Rubro    84328\n",
       "RUT      84328\n",
       "dtype: int64"
      ]
     },
     "execution_count": 27,
     "metadata": {},
     "output_type": "execute_result"
    }
   ],
   "source": [
    "df_fuc.count()"
   ]
  },
  {
   "cell_type": "code",
   "execution_count": 28,
   "id": "161faaca",
   "metadata": {},
   "outputs": [],
   "source": [
    "df_fuc.to_csv('Rubro_Clientes.csv', index = False)"
   ]
  },
  {
   "cell_type": "code",
   "execution_count": null,
   "id": "ecfa0393",
   "metadata": {},
   "outputs": [],
   "source": []
  }
 ],
 "metadata": {
  "kernelspec": {
   "display_name": "Python 3",
   "language": "python",
   "name": "python3"
  },
  "language_info": {
   "codemirror_mode": {
    "name": "ipython",
    "version": 3
   },
   "file_extension": ".py",
   "mimetype": "text/x-python",
   "name": "python",
   "nbconvert_exporter": "python",
   "pygments_lexer": "ipython3",
   "version": "3.8.8"
  }
 },
 "nbformat": 4,
 "nbformat_minor": 5
}
