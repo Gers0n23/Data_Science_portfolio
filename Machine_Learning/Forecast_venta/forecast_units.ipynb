{
 "cells": [
  {
   "cell_type": "markdown",
   "metadata": {},
   "source": [
    "Importacion de libreia Pandas y carga de la data\n",
    "\n",
    "Cargar y explorar los datos"
   ]
  },
  {
   "cell_type": "code",
   "execution_count": 10,
   "metadata": {},
   "outputs": [
    {
     "data": {
      "text/html": [
       "<div>\n",
       "<style scoped>\n",
       "    .dataframe tbody tr th:only-of-type {\n",
       "        vertical-align: middle;\n",
       "    }\n",
       "\n",
       "    .dataframe tbody tr th {\n",
       "        vertical-align: top;\n",
       "    }\n",
       "\n",
       "    .dataframe thead th {\n",
       "        text-align: right;\n",
       "    }\n",
       "</style>\n",
       "<table border=\"1\" class=\"dataframe\">\n",
       "  <thead>\n",
       "    <tr style=\"text-align: right;\">\n",
       "      <th></th>\n",
       "      <th>Fecha</th>\n",
       "      <th>Cod Mat SAP</th>\n",
       "      <th>Descripción Mat</th>\n",
       "      <th>Sucursales</th>\n",
       "      <th>Cantidad</th>\n",
       "      <th>Costo $</th>\n",
       "      <th>Precio $</th>\n",
       "      <th>Vta $</th>\n",
       "      <th>Mg $</th>\n",
       "    </tr>\n",
       "  </thead>\n",
       "  <tbody>\n",
       "    <tr>\n",
       "      <th>0</th>\n",
       "      <td>2023-01-03 00:00:00</td>\n",
       "      <td>200045.0</td>\n",
       "      <td>11R22.5 16PR 148/145M CR926D GOODRIDE</td>\n",
       "      <td>Chillan FC</td>\n",
       "      <td>2.0</td>\n",
       "      <td>135132.0</td>\n",
       "      <td>174782.00</td>\n",
       "      <td>349564.0</td>\n",
       "      <td>79300.0</td>\n",
       "    </tr>\n",
       "    <tr>\n",
       "      <th>1</th>\n",
       "      <td>2023-01-03 00:00:00</td>\n",
       "      <td>200045.0</td>\n",
       "      <td>11R22.5 16PR 148/145M CR926D GOODRIDE</td>\n",
       "      <td>Los Angeles FC</td>\n",
       "      <td>4.0</td>\n",
       "      <td>134969.0</td>\n",
       "      <td>173940.75</td>\n",
       "      <td>695763.0</td>\n",
       "      <td>155887.0</td>\n",
       "    </tr>\n",
       "    <tr>\n",
       "      <th>2</th>\n",
       "      <td>2023-01-03 00:00:00</td>\n",
       "      <td>200045.0</td>\n",
       "      <td>11R22.5 16PR 148/145M CR926D GOODRIDE</td>\n",
       "      <td>Osorno FC</td>\n",
       "      <td>2.0</td>\n",
       "      <td>135105.0</td>\n",
       "      <td>174782.00</td>\n",
       "      <td>349564.0</td>\n",
       "      <td>79354.0</td>\n",
       "    </tr>\n",
       "    <tr>\n",
       "      <th>3</th>\n",
       "      <td>2023-01-03 00:00:00</td>\n",
       "      <td>200045.0</td>\n",
       "      <td>11R22.5 16PR 148/145M CR926D GOODRIDE</td>\n",
       "      <td>Talcahuano</td>\n",
       "      <td>1.0</td>\n",
       "      <td>135459.0</td>\n",
       "      <td>174782.00</td>\n",
       "      <td>174782.0</td>\n",
       "      <td>39323.0</td>\n",
       "    </tr>\n",
       "    <tr>\n",
       "      <th>4</th>\n",
       "      <td>2023-01-03 00:00:00</td>\n",
       "      <td>200046.0</td>\n",
       "      <td>11R22.5 16PR 148/145J CB972 GOODRIDE</td>\n",
       "      <td>Los Angeles FC</td>\n",
       "      <td>4.0</td>\n",
       "      <td>147669.0</td>\n",
       "      <td>209235.00</td>\n",
       "      <td>836940.0</td>\n",
       "      <td>246264.0</td>\n",
       "    </tr>\n",
       "  </tbody>\n",
       "</table>\n",
       "</div>"
      ],
      "text/plain": [
       "                 Fecha  Cod Mat SAP                        Descripción Mat  \\\n",
       "0  2023-01-03 00:00:00     200045.0  11R22.5 16PR 148/145M CR926D GOODRIDE   \n",
       "1  2023-01-03 00:00:00     200045.0  11R22.5 16PR 148/145M CR926D GOODRIDE   \n",
       "2  2023-01-03 00:00:00     200045.0  11R22.5 16PR 148/145M CR926D GOODRIDE   \n",
       "3  2023-01-03 00:00:00     200045.0  11R22.5 16PR 148/145M CR926D GOODRIDE   \n",
       "4  2023-01-03 00:00:00     200046.0   11R22.5 16PR 148/145J CB972 GOODRIDE   \n",
       "\n",
       "       Sucursales  Cantidad   Costo $   Precio $     Vta $      Mg $  \n",
       "0      Chillan FC       2.0  135132.0  174782.00  349564.0   79300.0  \n",
       "1  Los Angeles FC       4.0  134969.0  173940.75  695763.0  155887.0  \n",
       "2       Osorno FC       2.0  135105.0  174782.00  349564.0   79354.0  \n",
       "3      Talcahuano       1.0  135459.0  174782.00  174782.0   39323.0  \n",
       "4  Los Angeles FC       4.0  147669.0  209235.00  836940.0  246264.0  "
      ]
     },
     "execution_count": 10,
     "metadata": {},
     "output_type": "execute_result"
    }
   ],
   "source": [
    "import pandas as pd\n",
    "\n",
    "# Cargar los datos (ajustar la ruta al archivo)\n",
    "df = pd.read_excel('C:\\\\Users\\\\gerson.cordero\\\\OneDrive - INACAP\\\\Data Science\\\\Modelos ML\\\\Forecast Neumaticos\\\\data_venta.xlsx', parse_dates=['Fecha'])\n",
    "\n",
    "# Ver las primeras filas\n",
    "df.head()\n",
    "\n"
   ]
  },
  {
   "cell_type": "markdown",
   "metadata": {},
   "source": [
    "Analisis inicial"
   ]
  },
  {
   "cell_type": "code",
   "execution_count": null,
   "metadata": {},
   "outputs": [],
   "source": []
  }
 ],
 "metadata": {
  "kernelspec": {
   "display_name": "base",
   "language": "python",
   "name": "python3"
  },
  "language_info": {
   "codemirror_mode": {
    "name": "ipython",
    "version": 3
   },
   "file_extension": ".py",
   "mimetype": "text/x-python",
   "name": "python",
   "nbconvert_exporter": "python",
   "pygments_lexer": "ipython3",
   "version": "3.12.4"
  }
 },
 "nbformat": 4,
 "nbformat_minor": 2
}
